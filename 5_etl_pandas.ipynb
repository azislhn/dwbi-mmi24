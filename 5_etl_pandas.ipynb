{
  "cells": [
    {
      "cell_type": "markdown",
      "metadata": {
        "id": "jUdjqXj9TL-x"
      },
      "source": [
        "## Instalasi dan Persiapan Data"
      ]
    },
    {
      "cell_type": "code",
      "execution_count": 128,
      "metadata": {
        "id": "US5SDLz7TL_C"
      },
      "outputs": [
        {
          "name": "stdout",
          "output_type": "stream",
          "text": [
            "Requirement already satisfied: duckdb in /Users/ditmawa/.pyenv/versions/3.10.6/lib/python3.10/site-packages (1.2.1)\n",
            "Requirement already satisfied: pandas in /Users/ditmawa/.pyenv/versions/3.10.6/lib/python3.10/site-packages (1.5.1)\n",
            "Requirement already satisfied: numpy in /Users/ditmawa/.pyenv/versions/3.10.6/lib/python3.10/site-packages (1.23.4)\n",
            "Requirement already satisfied: kagglehub in /Users/ditmawa/.pyenv/versions/3.10.6/lib/python3.10/site-packages (0.3.10)\n",
            "Requirement already satisfied: pytz>=2020.1 in /Users/ditmawa/.pyenv/versions/3.10.6/lib/python3.10/site-packages (from pandas) (2022.6)\n",
            "Requirement already satisfied: python-dateutil>=2.8.1 in /Users/ditmawa/.pyenv/versions/3.10.6/lib/python3.10/site-packages (from pandas) (2.8.2)\n",
            "Requirement already satisfied: requests in /Users/ditmawa/.pyenv/versions/3.10.6/lib/python3.10/site-packages (from kagglehub) (2.32.3)\n",
            "Requirement already satisfied: pyyaml in /Users/ditmawa/.pyenv/versions/3.10.6/lib/python3.10/site-packages (from kagglehub) (6.0.2)\n",
            "Requirement already satisfied: packaging in /Users/ditmawa/.pyenv/versions/3.10.6/lib/python3.10/site-packages (from kagglehub) (21.3)\n",
            "Requirement already satisfied: tqdm in /Users/ditmawa/.pyenv/versions/3.10.6/lib/python3.10/site-packages (from kagglehub) (4.67.1)\n",
            "Requirement already satisfied: six>=1.5 in /Users/ditmawa/.pyenv/versions/3.10.6/lib/python3.10/site-packages (from python-dateutil>=2.8.1->pandas) (1.16.0)\n",
            "Requirement already satisfied: pyparsing!=3.0.5,>=2.0.2 in /Users/ditmawa/.pyenv/versions/3.10.6/lib/python3.10/site-packages (from packaging->kagglehub) (3.0.9)\n",
            "Requirement already satisfied: certifi>=2017.4.17 in /Users/ditmawa/.pyenv/versions/3.10.6/lib/python3.10/site-packages (from requests->kagglehub) (2025.1.31)\n",
            "Requirement already satisfied: urllib3<3,>=1.21.1 in /Users/ditmawa/.pyenv/versions/3.10.6/lib/python3.10/site-packages (from requests->kagglehub) (2.3.0)\n",
            "Requirement already satisfied: charset-normalizer<4,>=2 in /Users/ditmawa/.pyenv/versions/3.10.6/lib/python3.10/site-packages (from requests->kagglehub) (3.4.1)\n",
            "Requirement already satisfied: idna<4,>=2.5 in /Users/ditmawa/.pyenv/versions/3.10.6/lib/python3.10/site-packages (from requests->kagglehub) (3.10)\n",
            "\n",
            "\u001b[1m[\u001b[0m\u001b[34;49mnotice\u001b[0m\u001b[1;39;49m]\u001b[0m\u001b[39;49m A new release of pip available: \u001b[0m\u001b[31;49m22.2.1\u001b[0m\u001b[39;49m -> \u001b[0m\u001b[32;49m25.0.1\u001b[0m\n",
            "\u001b[1m[\u001b[0m\u001b[34;49mnotice\u001b[0m\u001b[1;39;49m]\u001b[0m\u001b[39;49m To update, run: \u001b[0m\u001b[32;49mpip install --upgrade pip\u001b[0m\n",
            "Note: you may need to restart the kernel to use updated packages.\n"
          ]
        }
      ],
      "source": [
        "%pip install duckdb pandas numpy  kagglehub"
      ]
    },
    {
      "cell_type": "code",
      "execution_count": 129,
      "metadata": {
        "id": "wB2Sonj_TL_K"
      },
      "outputs": [],
      "source": [
        "import duckdb\n",
        "import pandas as pd\n",
        "import numpy as np\n",
        "from datetime import datetime, timedelta\n",
        "import os"
      ]
    },
    {
      "cell_type": "code",
      "execution_count": 130,
      "metadata": {
        "colab": {
          "base_uri": "https://localhost:8080/"
        },
        "id": "1haNxMvFTL_M",
        "outputId": "c7fbcda4-819c-43de-c7fd-60b8457f346e"
      },
      "outputs": [
        {
          "name": "stdout",
          "output_type": "stream",
          "text": [
            "Path to dataset files: /Users/ditmawa/.cache/kagglehub/datasets/olistbr/brazilian-ecommerce/versions/2\n"
          ]
        }
      ],
      "source": [
        "import kagglehub\n",
        "\n",
        "path = kagglehub.dataset_download(\"olistbr/brazilian-ecommerce\")\n",
        "\n",
        "print(\"Path to dataset files:\", path)"
      ]
    },
    {
      "cell_type": "code",
      "execution_count": 131,
      "metadata": {
        "id": "yw9uoHoHTL_P"
      },
      "outputs": [],
      "source": [
        "customers_csv = pd.read_csv(os.path.join(path,'olist_customers_dataset.csv'))\n",
        "geo_csv = pd.read_csv(os.path.join(path,'olist_geolocation_dataset.csv'))\n",
        "items_csv = pd.read_csv(os.path.join(path,'olist_order_items_dataset.csv'))\n",
        "payments_csv = pd.read_csv(os.path.join(path,'olist_order_payments_dataset.csv'))\n",
        "reviews_csv = pd.read_csv(os.path.join(path,'olist_order_reviews_dataset.csv'))\n",
        "orders_csv = pd.read_csv(os.path.join(path,'olist_orders_dataset.csv'))\n",
        "products_csv = pd.read_csv(os.path.join(path,'olist_products_dataset.csv'))\n",
        "sellers_csv = pd.read_csv(os.path.join(path,'olist_sellers_dataset.csv'))\n",
        "category_csv = pd.read_csv(os.path.join(path,'product_category_name_translation.csv'))"
      ]
    },
    {
      "cell_type": "code",
      "execution_count": 132,
      "metadata": {
        "colab": {
          "base_uri": "https://localhost:8080/"
        },
        "id": "u62_aLllTL_Q",
        "outputId": "c98ce86d-7145-44a8-df39-dfe332ab72c0"
      },
      "outputs": [
        {
          "name": "stdout",
          "output_type": "stream",
          "text": [
            "Customers: (99441, 5)\n",
            "Geo: (1000163, 5)\n",
            "Items: (112650, 7)\n",
            "Payments: (103886, 5)\n",
            "Reviews: (99224, 7)\n",
            "Orders: (99441, 8)\n",
            "Products: (32951, 9)\n",
            "Sellers: (3095, 4)\n",
            "Category: (71, 2)\n"
          ]
        }
      ],
      "source": [
        "print(f\"Customers: {customers_csv.shape}\")\n",
        "print(f\"Geo: {geo_csv.shape}\")\n",
        "print(f\"Items: {items_csv.shape}\")\n",
        "print(f\"Payments: {payments_csv.shape}\")\n",
        "print(f\"Reviews: {reviews_csv.shape}\")\n",
        "print(f\"Orders: {orders_csv.shape}\")\n",
        "print(f\"Products: {products_csv.shape}\")\n",
        "print(f\"Sellers: {sellers_csv.shape}\")\n",
        "print(f\"Category: {category_csv.shape}\")"
      ]
    },
    {
      "cell_type": "markdown",
      "metadata": {
        "id": "06tk9lIQTL_S"
      },
      "source": [
        "## Koneksi DuckDB dan DDL"
      ]
    },
    {
      "cell_type": "markdown",
      "metadata": {
        "id": "JEULlR2sTL_U"
      },
      "source": [
        "Koneksi ke DuckDB"
      ]
    },
    {
      "cell_type": "code",
      "execution_count": 133,
      "metadata": {
        "colab": {
          "base_uri": "https://localhost:8080/"
        },
        "id": "xC0tYGuNTL_V",
        "outputId": "ee369550-570f-4cdc-dbdd-7c8032a668f6"
      },
      "outputs": [
        {
          "name": "stdout",
          "output_type": "stream",
          "text": [
            "Terhubung ke DuckDB : brazilian_ecommerce.db\n"
          ]
        }
      ],
      "source": [
        "conn = duckdb.connect(\"brazilian_ecommerce.db\")\n",
        "print(\"Terhubung ke DuckDB : brazilian_ecommerce.db\")\n",
        "\n",
        "# conn.close()"
      ]
    },
    {
      "cell_type": "markdown",
      "metadata": {},
      "source": [
        "Menyimpan data mentah untuk kemudahan proses"
      ]
    },
    {
      "cell_type": "code",
      "execution_count": 134,
      "metadata": {},
      "outputs": [
        {
          "name": "stdout",
          "output_type": "stream",
          "text": [
            "All tables have been dropped.\n"
          ]
        }
      ],
      "source": [
        "# Drop all tables if they exist\n",
        "tables = [\"raw_customers\", \"raw_geo\", \"raw_items\", \"raw_payments\", \"raw_reviews\", \"raw_orders\", \"raw_products\", \"raw_sellers\", \"raw_category\", \"dim_payments\",\"fact_order_items\", \"fact_orders\", \"dim_customers\",  \"dim_date\", \"dim_products\", \"dim_sellers\"]\n",
        "for table in tables:\n",
        "    conn.execute(f\"DROP TABLE IF EXISTS {table};\")\n",
        "print(\"All tables have been dropped.\")"
      ]
    },
    {
      "cell_type": "code",
      "execution_count": 135,
      "metadata": {},
      "outputs": [
        {
          "data": {
            "text/plain": [
              "[('raw_category',),\n",
              " ('raw_customers',),\n",
              " ('raw_geo',),\n",
              " ('raw_items',),\n",
              " ('raw_orders',),\n",
              " ('raw_payments',),\n",
              " ('raw_products',),\n",
              " ('raw_reviews',),\n",
              " ('raw_sellers',)]"
            ]
          },
          "execution_count": 135,
          "metadata": {},
          "output_type": "execute_result"
        }
      ],
      "source": [
        "conn.execute(\"\"\"\n",
        "    CREATE OR REPLACE TABLE raw_customers AS SELECT * FROM customers_csv;\n",
        "    CREATE OR REPLACE TABLE raw_geo AS SELECT * FROM geo_csv;\n",
        "    CREATE OR REPLACE TABLE raw_items AS SELECT * FROM items_csv;\n",
        "    CREATE OR REPLACE TABLE raw_payments AS SELECT * FROM payments_csv;\n",
        "    CREATE OR REPLACE TABLE raw_reviews AS SELECT * FROM reviews_csv;\n",
        "    CREATE OR REPLACE TABLE raw_orders AS SELECT * FROM orders_csv;\n",
        "    CREATE OR REPLACE TABLE raw_products AS SELECT * FROM products_csv;\n",
        "    CREATE OR REPLACE TABLE raw_sellers AS SELECT * FROM sellers_csv;\n",
        "    CREATE OR REPLACE TABLE raw_category AS SELECT * FROM category_csv;\n",
        "\"\"\")\n",
        "conn.execute(\"SHOW TABLES;\").fetchall()"
      ]
    },
    {
      "cell_type": "markdown",
      "metadata": {
        "id": "JytzkwexTL_X"
      },
      "source": [
        "### DDL Fact Constellation Schema"
      ]
    },
    {
      "cell_type": "code",
      "execution_count": 136,
      "metadata": {
        "id": "73UiGOo3TL_a"
      },
      "outputs": [],
      "source": [
        "def create_datawarehouse_schema():\n",
        "    conn.execute(\"DROP TABLE IF EXISTS dim_payments\")\n",
        "    conn.execute(\"DROP TABLE IF EXISTS fact_order_items\")\n",
        "    conn.execute(\"DROP TABLE IF EXISTS fact_orders\")\n",
        "    \n",
        "    conn.execute(\"\"\"\n",
        "    CREATE OR REPLACE TABLE dim_date AS\n",
        "    WITH date_range AS (\n",
        "        SELECT unnest(generate_series('2016-09-01'::DATE, '2020-05-01'::DATE, INTERVAL '1 day')) as date\n",
        "    )\n",
        "    SELECT\n",
        "        (EXTRACT(YEAR FROM date) * 10000 + EXTRACT(MONTH FROM date) * 100 + EXTRACT(DAY FROM date))::INTEGER AS date_id,\n",
        "        date as date_value,\n",
        "        EXTRACT(DAY FROM date) AS day,\n",
        "        EXTRACT(MONTH FROM date) AS month,\n",
        "        strftime(date, '%B') AS month_name,\n",
        "        EXTRACT(YEAR FROM date) AS year,\n",
        "        strftime(date, '%A') AS day_name,\n",
        "        EXTRACT(DOW FROM date) AS day_of_week,\n",
        "        EXTRACT(QUARTER FROM date) AS quarter\n",
        "    FROM date_range;\n",
        "    \"\"\")\n",
        "\n",
        "    # Add primary key to dim_date table\n",
        "    conn.execute(\"ALTER TABLE dim_date ADD PRIMARY KEY (date_id);\")\n",
        "\n",
        "    conn.execute(\"\"\"\n",
        "    -- Tabel Dimensi\n",
        "    CREATE OR REPLACE TABLE dim_customers (\n",
        "        customer_id VARCHAR(50) PRIMARY KEY,\n",
        "        customer_unique_id VARCHAR(50) NOT NULL,\n",
        "        customer_city VARCHAR(100),\n",
        "        customer_state VARCHAR(50),\n",
        "        customer_zip_code_prefix VARCHAR(20)\n",
        "    );\n",
        "\n",
        "    CREATE OR REPLACE TABLE dim_sellers (\n",
        "        seller_id VARCHAR(50) PRIMARY KEY,\n",
        "        seller_zip_code_prefix VARCHAR(20),\n",
        "        seller_city VARCHAR(100),\n",
        "        seller_state VARCHAR(50)\n",
        "    );\n",
        "\n",
        "    --\n",
        "    CREATE OR REPLACE TABLE dim_products (\n",
        "        produk_key INT PRIMARY KEY,\n",
        "        product_id VARCHAR(50) UNIQUE NOT NULL,\n",
        "        product_category_name VARCHAR(100),\n",
        "        product_category_name_english VARCHAR(100),\n",
        "        product_weight_g DECIMAL(10,2),\n",
        "        product_length_cm DECIMAL(10,2),\n",
        "        product_height_cm DECIMAL(10,2),\n",
        "        product_width_cm DECIMAL(10,2),\n",
        "        effective_date DATE NOT NULL,\n",
        "        expiration_date DATE,\n",
        "        current_flag BOOLEAN DEFAULT TRUE\n",
        "    );\n",
        "\n",
        "    -- Tabel Fakta Pemesanan\n",
        "    CREATE OR REPLACE TABLE fact_orders (\n",
        "        order_id VARCHAR(50) PRIMARY KEY,\n",
        "        customer_id VARCHAR(50) NOT NULL,\n",
        "        date_id INT NOT NULL,\n",
        "        order_status VARCHAR(50),\n",
        "        order_purchase_timestamp DATETIME NOT NULL,\n",
        "        order_approved_at DATETIME,\n",
        "        order_delivered_customer_date DATETIME,\n",
        "        order_estimated_delivery_date DATETIME,\n",
        "        sales_amount DECIMAL(10,2),\n",
        "        FOREIGN KEY (customer_id) REFERENCES dim_customers(customer_id),\n",
        "        FOREIGN KEY (date_id) REFERENCES dim_date(date_id)\n",
        "    );\n",
        "\n",
        "    -- Tabel Fakta Item Pemesanan\n",
        "    CREATE OR REPLACE TABLE fact_order_items (\n",
        "        order_id VARCHAR(50) NOT NULL,\n",
        "        order_item_id VARCHAR(50) NOT NULL,\n",
        "        product_id VARCHAR(50) NOT NULL,\n",
        "        seller_id VARCHAR(50) NOT NULL,\n",
        "        date_id INT NOT NULL,\n",
        "        shipping_limit_date DATETIME,\n",
        "        price DECIMAL(10,2),\n",
        "        freight_value DECIMAL(10,2),\n",
        "        PRIMARY KEY (order_id, order_item_id),\n",
        "        FOREIGN KEY (order_id) REFERENCES fact_orders(order_id),\n",
        "        FOREIGN KEY (seller_id) REFERENCES dim_sellers(seller_id),\n",
        "        FOREIGN KEY (product_id) REFERENCES dim_products(product_id),\n",
        "        FOREIGN KEY (date_id) REFERENCES dim_date(date_id)\n",
        "    );\n",
        "    \n",
        "    -- DuckDB belum mendukung ALTER TABLE ADD FOREIGN KEY\n",
        "    -- Sehingga dimensi payments harus setelah fact_orders karena foreign key\n",
        "    CREATE OR REPLACE TABLE dim_payments (\n",
        "        payment_id INT PRIMARY KEY,\n",
        "        order_id VARCHAR(50) NOT NULL,\n",
        "        payment_sequential INT,\n",
        "        payment_type VARCHAR(50),\n",
        "        payment_installments INT,\n",
        "        payment_value DECIMAL(10,2),\n",
        "        FOREIGN KEY (order_id) REFERENCES fact_orders(order_id)\n",
        "    );\n",
        "    \"\"\")\n",
        "    \n",
        "    print(\"Schema datawarehouse berhasil dibuat\") \n"
      ]
    },
    {
      "cell_type": "code",
      "execution_count": 137,
      "metadata": {},
      "outputs": [
        {
          "name": "stdout",
          "output_type": "stream",
          "text": [
            "Schema datawarehouse berhasil dibuat\n"
          ]
        },
        {
          "data": {
            "text/plain": [
              "[('dim_customers',),\n",
              " ('dim_date',),\n",
              " ('dim_payments',),\n",
              " ('dim_products',),\n",
              " ('dim_sellers',),\n",
              " ('fact_order_items',),\n",
              " ('fact_orders',),\n",
              " ('raw_category',),\n",
              " ('raw_customers',),\n",
              " ('raw_geo',),\n",
              " ('raw_items',),\n",
              " ('raw_orders',),\n",
              " ('raw_payments',),\n",
              " ('raw_products',),\n",
              " ('raw_reviews',),\n",
              " ('raw_sellers',)]"
            ]
          },
          "execution_count": 137,
          "metadata": {},
          "output_type": "execute_result"
        }
      ],
      "source": [
        "create_datawarehouse_schema()\n",
        "conn.execute(\"SHOW TABLES;\").fetchall()"
      ]
    },
    {
      "cell_type": "markdown",
      "metadata": {
        "id": "w6Z8AFJwTL_b"
      },
      "source": [
        "## Proses ETL"
      ]
    },
    {
      "cell_type": "markdown",
      "metadata": {
        "id": "bW4Zsa5_TL_c"
      },
      "source": [
        "### Extract"
      ]
    },
    {
      "cell_type": "code",
      "execution_count": 138,
      "metadata": {
        "id": "bDqt99xQTL_d"
      },
      "outputs": [],
      "source": [
        "def extract_source_data():\n",
        "    \"\"\"Ekstrak data dari sumber data mentah\"\"\"\n",
        "\n",
        "    customers_df = conn.execute(\"SELECT * FROM raw_customers\").fetchdf()\n",
        "    geo_df = conn.execute(\"SELECT * FROM raw_geo\").fetchdf()\n",
        "    items_df = conn.execute(\"SELECT * FROM raw_items\").fetchdf()\n",
        "    payments_df = conn.execute(\"SELECT * FROM raw_payments\").fetchdf()\n",
        "    reviews_df = conn.execute(\"SELECT * FROM raw_reviews\").fetchdf()\n",
        "    orders_df = conn.execute(\"SELECT * FROM raw_orders\").fetchdf()\n",
        "    products_df = conn.execute(\"SELECT * FROM raw_products\").fetchdf()\n",
        "    sellers_df = conn.execute(\"SELECT * FROM raw_sellers\").fetchdf()\n",
        "    category_df = conn.execute(\"SELECT * FROM raw_category\").fetchdf()\n",
        "\n",
        "    print(f\"Data berhasil diekstrak:\")\n",
        "    print(f\"Jumlah data customers: {customers_df.shape[0]}\")\n",
        "    print(f\"Jumlah data geolocation: {geo_df.shape[0]}\")\n",
        "    print(f\"Jumlah data items: {items_df.shape[0]}\")\n",
        "    print(f\"Jumlah data payments: {payments_df.shape[0]}\")\n",
        "    print(f\"Jumlah data reviews: {reviews_df.shape[0]}\")\n",
        "    print(f\"Jumlah data orders: {orders_df.shape[0]}\")\n",
        "    print(f\"Jumlah data products: {products_df.shape[0]}\")\n",
        "    print(f\"Jumlah data sellers: {sellers_df.shape[0]}\")\n",
        "    print(f\"Jumlah data product category: {category_df.shape[0]}\")\n",
        "\n",
        "    return customers_df, geo_df, items_df, payments_df, reviews_df, orders_df, products_df, sellers_df, category_df"
      ]
    },
    {
      "cell_type": "code",
      "execution_count": 139,
      "metadata": {
        "colab": {
          "base_uri": "https://localhost:8080/"
        },
        "id": "GJFFK8BHTL_e",
        "outputId": "694c9dda-a0a0-47d3-89fb-8d542b9f9231"
      },
      "outputs": [
        {
          "name": "stdout",
          "output_type": "stream",
          "text": [
            "Data berhasil diekstrak:\n",
            "Jumlah data customers: 99441\n",
            "Jumlah data geolocation: 1000163\n",
            "Jumlah data items: 112650\n",
            "Jumlah data payments: 103886\n",
            "Jumlah data reviews: 99224\n",
            "Jumlah data orders: 99441\n",
            "Jumlah data products: 32951\n",
            "Jumlah data sellers: 3095\n",
            "Jumlah data product category: 71\n"
          ]
        }
      ],
      "source": [
        "customers_df, geo_df, items_df, payments_df, reviews_df, orders_df, products_df, sellers_df, category_df = extract_source_data()"
      ]
    },
    {
      "cell_type": "markdown",
      "metadata": {
        "id": "s3Y9xhTdTL_f"
      },
      "source": [
        "### Transform"
      ]
    },
    {
      "cell_type": "code",
      "execution_count": 140,
      "metadata": {
        "id": "knb1hglJTL_g"
      },
      "outputs": [],
      "source": [
        "# Fungsi cek duplikasi data\n",
        "def check_duplicates(df, column):\n",
        "    duplicate_counts = df[column].value_counts()\n",
        "    unique_counts = len(duplicate_counts)\n",
        "    print(f\"Jumlah data unik pada kolom {column}: {unique_counts}\")\n",
        "    if len(duplicate_counts[duplicate_counts > 1]) == 0:\n",
        "        print(f\"Tidak ada duplikat data pada kolom {column}\")\n",
        "    else:\n",
        "        print(f\"Ada duplikat data pada kolom {column} sebanyak {len(duplicate_counts[duplicate_counts > 1])}\")"
      ]
    },
    {
      "cell_type": "markdown",
      "metadata": {
        "id": "crw_23tqTL_i"
      },
      "source": [
        "#### Dimensi Customers"
      ]
    },
    {
      "cell_type": "code",
      "execution_count": 141,
      "metadata": {
        "colab": {
          "base_uri": "https://localhost:8080/"
        },
        "id": "_k7TxNrMTL_i",
        "outputId": "7fcce19f-bcaf-4fa9-e42e-0b38a8c480d3"
      },
      "outputs": [
        {
          "name": "stdout",
          "output_type": "stream",
          "text": [
            "['customer_id', 'customer_unique_id', 'customer_zip_code_prefix', 'customer_city', 'customer_state']\n"
          ]
        }
      ],
      "source": [
        "dim_customers = customers_df.copy()\n",
        "print(dim_customers.columns.tolist())"
      ]
    },
    {
      "cell_type": "code",
      "execution_count": 142,
      "metadata": {
        "colab": {
          "base_uri": "https://localhost:8080/"
        },
        "id": "5zc9Lg9vTL_j",
        "outputId": "4a088ba0-3f69-4744-dabe-ce0c320fbfa6"
      },
      "outputs": [
        {
          "name": "stdout",
          "output_type": "stream",
          "text": [
            "Jumlah data unik pada kolom customer_id: 99441\n",
            "Tidak ada duplikat data pada kolom customer_id\n"
          ]
        }
      ],
      "source": [
        "# Satu customer_unique_id bisa punya lebih dari satu customer_id\n",
        "\"\"\" Cek duplikasi data \"\"\"\n",
        "\n",
        "check_duplicates(dim_customers, 'customer_id')\n",
        "\n",
        "dim_customers = dim_customers.drop_duplicates(subset=['customer_id'])"
      ]
    },
    {
      "cell_type": "code",
      "execution_count": 143,
      "metadata": {
        "colab": {
          "base_uri": "https://localhost:8080/",
          "height": 241
        },
        "id": "N6twQC78TL_k",
        "outputId": "0466d906-62c0-4553-c145-917395235b74"
      },
      "outputs": [
        {
          "data": {
            "text/plain": [
              "customer_id                 0\n",
              "customer_unique_id          0\n",
              "customer_zip_code_prefix    0\n",
              "customer_city               0\n",
              "customer_state              0\n",
              "dtype: int64"
            ]
          },
          "execution_count": 143,
          "metadata": {},
          "output_type": "execute_result"
        }
      ],
      "source": [
        "\"\"\" Cek data kosong \"\"\"\n",
        "\n",
        "dim_customers.isnull().sum()"
      ]
    },
    {
      "cell_type": "code",
      "execution_count": 144,
      "metadata": {
        "colab": {
          "base_uri": "https://localhost:8080/"
        },
        "id": "e24jJ5IJTL_l",
        "outputId": "4f27cafa-a237-4479-9d78-690531e327ce"
      },
      "outputs": [
        {
          "name": "stdout",
          "output_type": "stream",
          "text": [
            "                        customer_id                customer_unique_id  \\\n",
            "0  06b8999e2fba1a1fbc88172c00ba8bc7  861eff4711a542e4b93843c6dd7febb0   \n",
            "1  18955e83d337fd6b2def6b18a428ac77  290c77bc529b7ac935b93aa66c333dc3   \n",
            "2  4e7b3e00288586ebd08712fdd0374a03  060e732b5b29e8181a18229c7b0b2b5e   \n",
            "3  b2b6027bc5c5109e529d4dc6358b12c3  259dac757896d24d7702b9acbbff3f3c   \n",
            "4  4f2d8ab171c80ec8364f7c12e35b23ad  345ecd01c38d18a9036ed96c73b8d066   \n",
            "\n",
            "           customer_city customer_state  customer_zip_code_prefix  \n",
            "0                 franca             SP                     14409  \n",
            "1  sao bernardo do campo             SP                      9790  \n",
            "2              sao paulo             SP                      1151  \n",
            "3        mogi das cruzes             SP                      8775  \n",
            "4               campinas             SP                     13056  \n"
          ]
        }
      ],
      "source": [
        "\"\"\" Kolom yang digunakan \"\"\"\n",
        "\n",
        "dim_customers = dim_customers[['customer_id', 'customer_unique_id', 'customer_city', 'customer_state', 'customer_zip_code_prefix']]\n",
        "print(dim_customers.head())"
      ]
    },
    {
      "cell_type": "markdown",
      "metadata": {
        "id": "qOJ4_HvUTL_m"
      },
      "source": [
        "#### Dimensi Seller"
      ]
    },
    {
      "cell_type": "code",
      "execution_count": 145,
      "metadata": {
        "colab": {
          "base_uri": "https://localhost:8080/"
        },
        "id": "vtw5z5_ITL_m",
        "outputId": "6fabca89-3625-4859-d32e-fb964266a599"
      },
      "outputs": [
        {
          "name": "stdout",
          "output_type": "stream",
          "text": [
            "['seller_id', 'seller_zip_code_prefix', 'seller_city', 'seller_state']\n"
          ]
        }
      ],
      "source": [
        "dim_sellers = sellers_df.copy()\n",
        "print(dim_sellers.columns.tolist())"
      ]
    },
    {
      "cell_type": "code",
      "execution_count": 146,
      "metadata": {
        "colab": {
          "base_uri": "https://localhost:8080/"
        },
        "id": "DxwxGYBoTL_n",
        "outputId": "12b7cb2c-097a-4655-a024-077b25140ac4"
      },
      "outputs": [
        {
          "name": "stdout",
          "output_type": "stream",
          "text": [
            "Jumlah data unik pada kolom seller_id: 3095\n",
            "Tidak ada duplikat data pada kolom seller_id\n"
          ]
        }
      ],
      "source": [
        "\"\"\" Cek duplikasi data \"\"\"\n",
        "\n",
        "check_duplicates(dim_sellers, 'seller_id')\n",
        "\n",
        "dim_sellers = dim_sellers.drop_duplicates(subset=['seller_id'])"
      ]
    },
    {
      "cell_type": "code",
      "execution_count": 147,
      "metadata": {
        "colab": {
          "base_uri": "https://localhost:8080/",
          "height": 209
        },
        "id": "TBqYnUQfTL_n",
        "outputId": "a735e2ce-f629-424f-f68f-1c548a2630ed"
      },
      "outputs": [
        {
          "data": {
            "text/plain": [
              "seller_id                 0\n",
              "seller_zip_code_prefix    0\n",
              "seller_city               0\n",
              "seller_state              0\n",
              "dtype: int64"
            ]
          },
          "execution_count": 147,
          "metadata": {},
          "output_type": "execute_result"
        }
      ],
      "source": [
        "\"\"\" Cek data kosong \"\"\"\n",
        "\n",
        "dim_sellers.isnull().sum()"
      ]
    },
    {
      "cell_type": "code",
      "execution_count": 148,
      "metadata": {
        "colab": {
          "base_uri": "https://localhost:8080/"
        },
        "id": "lWDZXwWrTL_o",
        "outputId": "da35562f-02d4-4dc2-8899-e6c62c583948"
      },
      "outputs": [
        {
          "name": "stdout",
          "output_type": "stream",
          "text": [
            "                          seller_id        seller_city seller_state  \\\n",
            "0  3442f8959a84dea7ee197c632cb2df15           campinas           SP   \n",
            "1  d1b65fc7debc3361ea86b5f14c68d2e2         mogi guacu           SP   \n",
            "2  ce3ad9de960102d0677a81f5d0bb7b2d     rio de janeiro           RJ   \n",
            "3  c0f3eea2e14555b6faeea3dd58c1b1c3          sao paulo           SP   \n",
            "4  51a04a8a6bdcb23deccc82b0b80742cf  braganca paulista           SP   \n",
            "\n",
            "   seller_zip_code_prefix  \n",
            "0                   13023  \n",
            "1                   13844  \n",
            "2                   20031  \n",
            "3                    4195  \n",
            "4                   12914  \n"
          ]
        }
      ],
      "source": [
        "\"\"\" Memilih dan mengurutkan kolom yang digunakan \"\"\"\n",
        "\n",
        "dim_sellers = dim_sellers[['seller_id', 'seller_city', 'seller_state', 'seller_zip_code_prefix']]\n",
        "print(dim_sellers.head())"
      ]
    },
    {
      "cell_type": "markdown",
      "metadata": {
        "id": "mtHFANTTTL_p"
      },
      "source": [
        "#### Dimensi Products"
      ]
    },
    {
      "cell_type": "code",
      "execution_count": 149,
      "metadata": {
        "colab": {
          "base_uri": "https://localhost:8080/"
        },
        "id": "8_0nAVEsTL_q",
        "outputId": "a94793a7-b914-43a5-a8da-996b812224b3"
      },
      "outputs": [
        {
          "name": "stdout",
          "output_type": "stream",
          "text": [
            "['product_id', 'product_category_name', 'product_name_lenght', 'product_description_lenght', 'product_photos_qty', 'product_weight_g', 'product_length_cm', 'product_height_cm', 'product_width_cm']\n"
          ]
        }
      ],
      "source": [
        "dim_products = products_df.copy()\n",
        "print(dim_products.columns.tolist())"
      ]
    },
    {
      "cell_type": "code",
      "execution_count": 150,
      "metadata": {},
      "outputs": [
        {
          "name": "stdout",
          "output_type": "stream",
          "text": [
            "Jumlah data unik pada kolom product_id: 32951\n",
            "Tidak ada duplikat data pada kolom product_id\n"
          ]
        }
      ],
      "source": [
        "\"\"\" Cek duplikasi data \"\"\"\n",
        "\n",
        "check_duplicates(dim_products, 'product_id')\n",
        "\n",
        "dim_products = dim_products.drop_duplicates(subset=['product_id'])"
      ]
    },
    {
      "cell_type": "code",
      "execution_count": 151,
      "metadata": {
        "colab": {
          "base_uri": "https://localhost:8080/",
          "height": 366
        },
        "id": "7yH1qFqXVRqH",
        "outputId": "d5872ea4-d638-4690-deb7-d09e06a7229c"
      },
      "outputs": [
        {
          "data": {
            "text/plain": [
              "product_id                      0\n",
              "product_category_name         610\n",
              "product_name_lenght           610\n",
              "product_description_lenght    610\n",
              "product_photos_qty            610\n",
              "product_weight_g                2\n",
              "product_length_cm               2\n",
              "product_height_cm               2\n",
              "product_width_cm                2\n",
              "dtype: int64"
            ]
          },
          "execution_count": 151,
          "metadata": {},
          "output_type": "execute_result"
        }
      ],
      "source": [
        "\"\"\" Cek data kosong \"\"\"\n",
        "\n",
        "dim_products.isnull().sum()"
      ]
    },
    {
      "cell_type": "code",
      "execution_count": 152,
      "metadata": {
        "id": "f7qsOypQV6Zm"
      },
      "outputs": [],
      "source": [
        "\"\"\" Isi data kosong pada ['product_weight_g', 'product_length_cm', 'product_height_cm', 'product_width_cm'] dengan rata-rata \"\"\"\n",
        "\n",
        "for column in ['product_weight_g', 'product_length_cm', 'product_height_cm', 'product_width_cm']:\n",
        "    mean_value = dim_products[column].mean()\n",
        "    dim_products[column] = dim_products[column].fillna(mean_value)"
      ]
    },
    {
      "cell_type": "code",
      "execution_count": 153,
      "metadata": {
        "colab": {
          "base_uri": "https://localhost:8080/"
        },
        "id": "TlRgEDMcWpqY",
        "outputId": "5f9f67b9-2aa4-4bf4-8415-e6e30202ea04"
      },
      "outputs": [],
      "source": [
        "\"\"\"\n",
        "Pada dimensi products akan diimplementasikan SCD type 2\n",
        "Menambahkan product_key untuk primary key\n",
        "Menambahkan tanggal efektif dengan default tanggal sekarang\n",
        "Menambahkan tanggal kedaluwarsa dengan default None\n",
        "Menambahkan current_flag dengan default True\n",
        "\"\"\"\n",
        "\n",
        "dim_products['product_key'] = range(1, len(dim_products) + 1)\n",
        "dim_products['effective_date'] = datetime.now().date()  # atau menggunakan datetime(2019, 1, 1) \n",
        "dim_products['expiration_date'] = None\n",
        "dim_products['current_flag'] = True\n"
      ]
    },
    {
      "cell_type": "code",
      "execution_count": 154,
      "metadata": {
        "id": "7Hso4gwETL_r"
      },
      "outputs": [],
      "source": [
        "\"\"\" Menambahkan kolom product_category_name_english yang diambil dari category_df \"\"\"\n",
        "\n",
        "for i in range(len(category_df)):\n",
        "    ctg = category_df['product_category_name'][i]\n",
        "    eng_ctg = category_df['product_category_name_english'][i]\n",
        "    if (ctg in dim_products['product_category_name'].unique()):\n",
        "        dim_products.loc[dim_products['product_category_name'] == ctg, 'product_category_name_english'] = eng_ctg\n"
      ]
    },
    {
      "cell_type": "code",
      "execution_count": 155,
      "metadata": {
        "colab": {
          "base_uri": "https://localhost:8080/"
        },
        "id": "mm71AeIAXyfX",
        "outputId": "e08b5721-5721-4967-9440-afa706409ccd"
      },
      "outputs": [
        {
          "name": "stdout",
          "output_type": "stream",
          "text": [
            "   product_key                        product_id  product_category_name  \\\n",
            "0            1  1e9e8ef04dbcff4541ed26657ea517e5             perfumaria   \n",
            "1            2  3aa071139cb16b67ca9e5dea641aaa2f                  artes   \n",
            "2            3  96bd76ec8810374ed1b65e291975717f          esporte_lazer   \n",
            "3            4  cef67bcfe19066a932b7673e239eb23d                  bebes   \n",
            "4            5  9dc1a7de274444849c219cff195d0b71  utilidades_domesticas   \n",
            "\n",
            "  product_category_name_english  product_weight_g  product_length_cm  \\\n",
            "0                     perfumery             225.0               16.0   \n",
            "1                           art            1000.0               30.0   \n",
            "2                sports_leisure             154.0               18.0   \n",
            "3                          baby             371.0               26.0   \n",
            "4                    housewares             625.0               20.0   \n",
            "\n",
            "   product_height_cm  product_width_cm effective_date expiration_date  \\\n",
            "0               10.0              14.0     2025-03-22            None   \n",
            "1               18.0              20.0     2025-03-22            None   \n",
            "2                9.0              15.0     2025-03-22            None   \n",
            "3                4.0              26.0     2025-03-22            None   \n",
            "4               17.0              13.0     2025-03-22            None   \n",
            "\n",
            "   current_flag  \n",
            "0          True  \n",
            "1          True  \n",
            "2          True  \n",
            "3          True  \n",
            "4          True  \n"
          ]
        }
      ],
      "source": [
        "\"\"\" Memilih dan mengurutkan kolom yang digunakan \"\"\"\n",
        "\n",
        "dim_products = dim_products[['product_key', \n",
        "                             'product_id', \n",
        "                             'product_category_name', \n",
        "                             'product_category_name_english', \n",
        "                             'product_weight_g', \n",
        "                             'product_length_cm', \n",
        "                             'product_height_cm', \n",
        "                             'product_width_cm', \n",
        "                             'effective_date', \n",
        "                             'expiration_date', \n",
        "                             'current_flag']]\n",
        "print(dim_products.head())"
      ]
    },
    {
      "cell_type": "markdown",
      "metadata": {
        "id": "-qU7kyYqTL_t"
      },
      "source": [
        "#### Dimensi Payments"
      ]
    },
    {
      "cell_type": "code",
      "execution_count": 156,
      "metadata": {
        "colab": {
          "base_uri": "https://localhost:8080/"
        },
        "id": "69voGNqfTL_t",
        "outputId": "b8092ab4-acf3-48f1-d024-fbc47b3c0515"
      },
      "outputs": [
        {
          "name": "stdout",
          "output_type": "stream",
          "text": [
            "['order_id', 'payment_sequential', 'payment_type', 'payment_installments', 'payment_value']\n"
          ]
        }
      ],
      "source": [
        "dim_payments = payments_df.copy()\n",
        "print(dim_payments.columns.tolist())"
      ]
    },
    {
      "cell_type": "code",
      "execution_count": 157,
      "metadata": {
        "colab": {
          "base_uri": "https://localhost:8080/",
          "height": 241
        },
        "id": "ah6zGAysY6hP",
        "outputId": "8d1d11fb-4953-432e-9e2d-ce539088d74d"
      },
      "outputs": [
        {
          "data": {
            "text/plain": [
              "order_id                0\n",
              "payment_sequential      0\n",
              "payment_type            0\n",
              "payment_installments    0\n",
              "payment_value           0\n",
              "dtype: int64"
            ]
          },
          "execution_count": 157,
          "metadata": {},
          "output_type": "execute_result"
        }
      ],
      "source": [
        "\"\"\" Cek data kosong \"\"\"\n",
        "\n",
        "dim_payments.isnull().sum()"
      ]
    },
    {
      "cell_type": "code",
      "execution_count": 158,
      "metadata": {
        "colab": {
          "base_uri": "https://localhost:8080/",
          "height": 272
        },
        "id": "UPxeD4gYTL_u",
        "outputId": "1ffbdc5f-1eec-4637-91e5-f2393d67a672"
      },
      "outputs": [
        {
          "data": {
            "text/plain": [
              "credit_card    76795\n",
              "boleto         19784\n",
              "voucher         5775\n",
              "debit_card      1529\n",
              "not_defined        3\n",
              "Name: payment_type, dtype: int64"
            ]
          },
          "execution_count": 158,
          "metadata": {},
          "output_type": "execute_result"
        }
      ],
      "source": [
        "\"\"\" Cek data unik pada tipe pembayaran \"\"\"\n",
        "dim_payments['payment_type'].value_counts()"
      ]
    },
    {
      "cell_type": "code",
      "execution_count": 159,
      "metadata": {},
      "outputs": [
        {
          "name": "stdout",
          "output_type": "stream",
          "text": [
            "   payment_id                          order_id  payment_sequential  \\\n",
            "0           1  b81ef226f3fe1789b1e8b2acac839d17                   1   \n",
            "1           2  a9810da82917af2d9aefd1278f1dcfa0                   1   \n",
            "2           3  25e8ea4e93396b6fa0d3dd708e76c1bd                   1   \n",
            "3           4  ba78997921bbcdc1373bb41e913ab953                   1   \n",
            "4           5  42fdf880ba16b47b59251dd489d4441a                   1   \n",
            "\n",
            "  payment_type  payment_installments  payment_value  \n",
            "0  credit_card                     8          99.33  \n",
            "1  credit_card                     1          24.39  \n",
            "2  credit_card                     1          65.71  \n",
            "3  credit_card                     8         107.78  \n",
            "4  credit_card                     2         128.45  \n"
          ]
        }
      ],
      "source": [
        "\"\"\" \n",
        "Menambahkan payment_id sebagai primary key\n",
        "Memilih dan mengurutkan kolom yang digunakan\n",
        "\"\"\"\n",
        "\n",
        "dim_payments['payment_id'] = range(1, len(dim_payments) + 1)\n",
        "columns = ['payment_id', 'order_id', 'payment_sequential', 'payment_type', 'payment_installments', 'payment_value']\n",
        "dim_payments = dim_payments[columns]\n",
        "\n",
        "print(dim_payments.head())"
      ]
    },
    {
      "cell_type": "markdown",
      "metadata": {},
      "source": [
        "#### Dimensi Date\n",
        "\n",
        "Dimensi Tanggal sudah dibangun di skema data warehouse"
      ]
    },
    {
      "cell_type": "markdown",
      "metadata": {
        "id": "PzDA0oXxZYgG"
      },
      "source": [
        "#### Fakta Orders\n"
      ]
    },
    {
      "cell_type": "code",
      "execution_count": 160,
      "metadata": {
        "colab": {
          "base_uri": "https://localhost:8080/"
        },
        "id": "foPhxbKrb_EX",
        "outputId": "58144c36-fd87-48ec-d08c-689d6851fe58"
      },
      "outputs": [
        {
          "name": "stdout",
          "output_type": "stream",
          "text": [
            "['order_id', 'customer_id', 'order_status', 'order_purchase_timestamp', 'order_approved_at', 'order_delivered_carrier_date', 'order_delivered_customer_date', 'order_estimated_delivery_date']\n"
          ]
        }
      ],
      "source": [
        "fact_orders = orders_df.copy()\n",
        "print(fact_orders.columns.tolist())"
      ]
    },
    {
      "cell_type": "code",
      "execution_count": 161,
      "metadata": {
        "colab": {
          "base_uri": "https://localhost:8080/",
          "height": 335
        },
        "id": "JB0Gao2Qc-Yy",
        "outputId": "f2c2cd2e-71fd-4ea3-8ee0-9fe70f586593"
      },
      "outputs": [
        {
          "data": {
            "text/plain": [
              "order_id                            0\n",
              "customer_id                         0\n",
              "order_status                        0\n",
              "order_purchase_timestamp            0\n",
              "order_approved_at                 160\n",
              "order_delivered_carrier_date     1783\n",
              "order_delivered_customer_date    2965\n",
              "order_estimated_delivery_date       0\n",
              "dtype: int64"
            ]
          },
          "execution_count": 161,
          "metadata": {},
          "output_type": "execute_result"
        }
      ],
      "source": [
        "\"\"\" Cek data kosong \"\"\"\n",
        "fact_orders.isnull().sum()"
      ]
    },
    {
      "cell_type": "code",
      "execution_count": 162,
      "metadata": {},
      "outputs": [
        {
          "data": {
            "text/plain": [
              "delivered      96478\n",
              "shipped         1107\n",
              "canceled         625\n",
              "unavailable      609\n",
              "invoiced         314\n",
              "processing       301\n",
              "created            5\n",
              "approved           2\n",
              "Name: order_status, dtype: int64"
            ]
          },
          "execution_count": 162,
          "metadata": {},
          "output_type": "execute_result"
        }
      ],
      "source": [
        "\"\"\" Cek data unik pada status pembayaran \"\"\"\n",
        "\n",
        "fact_orders['order_status'].value_counts()"
      ]
    },
    {
      "cell_type": "code",
      "execution_count": 163,
      "metadata": {},
      "outputs": [],
      "source": [
        "\"\"\" Memilah kolom yang tidak digunakan \"\"\"\n",
        "\n",
        "fact_orders = fact_orders.drop('order_delivered_carrier_date', axis=1)\n"
      ]
    },
    {
      "cell_type": "code",
      "execution_count": 164,
      "metadata": {
        "colab": {
          "base_uri": "https://localhost:8080/"
        },
        "id": "OTSmJE6xd2o-",
        "outputId": "b1b4182f-cfd8-41ce-89fc-91572f345491"
      },
      "outputs": [
        {
          "name": "stdout",
          "output_type": "stream",
          "text": [
            "                           order_id                       customer_id  \\\n",
            "0  e481f51cbdc54678b7cc49136f2d6af7  9ef432eb6251297304e76186b10a928d   \n",
            "1  53cdb2fc8bc7dce0b6741e2150273451  b0830fb4747a6c6d20dea0b8c802d7ef   \n",
            "2  47770eb9100c2d0c44946d9cf07ec65d  41ce2a54c0b03bf3443c3d931a367089   \n",
            "3  949d5b44dbf5de918fe9c16f97b45f8a  f88197465ea7920adcdbec7375364d82   \n",
            "4  ad21c59c0840e6cb83a9ceb5573f8159  8ab97904e6daea8866dbdbc4fb7aad2c   \n",
            "\n",
            "    date_id order_status order_purchase_timestamp    order_approved_at  \\\n",
            "0  20171002    delivered      2017-10-02 10:56:33  2017-10-02 11:07:15   \n",
            "1  20180724    delivered      2018-07-24 20:41:37  2018-07-26 03:24:27   \n",
            "2  20180808    delivered      2018-08-08 08:38:49  2018-08-08 08:55:23   \n",
            "3  20171118    delivered      2017-11-18 19:28:06  2017-11-18 19:45:59   \n",
            "4  20180213    delivered      2018-02-13 21:18:39  2018-02-13 22:20:29   \n",
            "\n",
            "  order_delivered_customer_date order_estimated_delivery_date  \n",
            "0           2017-10-10 21:25:13           2017-10-18 00:00:00  \n",
            "1           2018-08-07 15:27:45           2018-08-13 00:00:00  \n",
            "2           2018-08-17 18:06:29           2018-09-04 00:00:00  \n",
            "3           2017-12-02 00:28:42           2017-12-15 00:00:00  \n",
            "4           2018-02-16 18:17:02           2018-02-26 00:00:00  \n"
          ]
        }
      ],
      "source": [
        "\"\"\" \n",
        "Menambahkan kolom date_id dengan format YYYYMMDD dari data order_purchase_timestamp\n",
        "Meletakkan date_id setelah customer_id\n",
        "\"\"\"\n",
        "\n",
        "fact_orders['date_id'] = pd.to_datetime(fact_orders['order_purchase_timestamp']).dt.strftime('%Y%m%d').astype(int)\n",
        "\n",
        "cols = list(fact_orders.columns)\n",
        "customer_id_index = cols.index('customer_id')\n",
        "cols.insert(customer_id_index + 1, cols.pop(cols.index('date_id')))\n",
        "fact_orders = fact_orders[cols]\n",
        "\n",
        "print(fact_orders.head())"
      ]
    },
    {
      "cell_type": "code",
      "execution_count": 165,
      "metadata": {},
      "outputs": [
        {
          "name": "stdout",
          "output_type": "stream",
          "text": [
            "                           order_id                       customer_id  \\\n",
            "0  e481f51cbdc54678b7cc49136f2d6af7  9ef432eb6251297304e76186b10a928d   \n",
            "1  53cdb2fc8bc7dce0b6741e2150273451  b0830fb4747a6c6d20dea0b8c802d7ef   \n",
            "2  47770eb9100c2d0c44946d9cf07ec65d  41ce2a54c0b03bf3443c3d931a367089   \n",
            "3  949d5b44dbf5de918fe9c16f97b45f8a  f88197465ea7920adcdbec7375364d82   \n",
            "4  ad21c59c0840e6cb83a9ceb5573f8159  8ab97904e6daea8866dbdbc4fb7aad2c   \n",
            "\n",
            "    date_id order_status order_purchase_timestamp    order_approved_at  \\\n",
            "0  20171002    delivered      2017-10-02 10:56:33  2017-10-02 11:07:15   \n",
            "1  20180724    delivered      2018-07-24 20:41:37  2018-07-26 03:24:27   \n",
            "2  20180808    delivered      2018-08-08 08:38:49  2018-08-08 08:55:23   \n",
            "3  20171118    delivered      2017-11-18 19:28:06  2017-11-18 19:45:59   \n",
            "4  20180213    delivered      2018-02-13 21:18:39  2018-02-13 22:20:29   \n",
            "\n",
            "  order_delivered_customer_date order_estimated_delivery_date  sales_amount  \n",
            "0           2017-10-10 21:25:13           2017-10-18 00:00:00         29.99  \n",
            "1           2018-08-07 15:27:45           2018-08-13 00:00:00        118.70  \n",
            "2           2018-08-17 18:06:29           2018-09-04 00:00:00        159.90  \n",
            "3           2017-12-02 00:28:42           2017-12-15 00:00:00         45.00  \n",
            "4           2018-02-16 18:17:02           2018-02-26 00:00:00         19.90  \n"
          ]
        }
      ],
      "source": [
        "\"\"\" \n",
        "Menambahkan kolom sales_amount dengan menjumlahkan harga produk\n",
        "Data diambil dari price di tabel items_df yang dijumlahkan berdasarkan order_id\n",
        "\"\"\"\n",
        "\n",
        "sales_amount_df = items_df.groupby('order_id')['price'].sum().reset_index()\n",
        "sales_amount_df = sales_amount_df.rename(columns={'price': 'sales_amount'})\n",
        "fact_orders = pd.merge(fact_orders, sales_amount_df, on='order_id', how='left')\n",
        "\n",
        "print(fact_orders.head())"
      ]
    },
    {
      "cell_type": "code",
      "execution_count": 166,
      "metadata": {},
      "outputs": [
        {
          "name": "stdout",
          "output_type": "stream",
          "text": [
            "(99441, 9)\n",
            "                           order_id                       customer_id  \\\n",
            "0  e481f51cbdc54678b7cc49136f2d6af7  9ef432eb6251297304e76186b10a928d   \n",
            "1  53cdb2fc8bc7dce0b6741e2150273451  b0830fb4747a6c6d20dea0b8c802d7ef   \n",
            "2  47770eb9100c2d0c44946d9cf07ec65d  41ce2a54c0b03bf3443c3d931a367089   \n",
            "3  949d5b44dbf5de918fe9c16f97b45f8a  f88197465ea7920adcdbec7375364d82   \n",
            "4  ad21c59c0840e6cb83a9ceb5573f8159  8ab97904e6daea8866dbdbc4fb7aad2c   \n",
            "\n",
            "    date_id order_status order_purchase_timestamp    order_approved_at  \\\n",
            "0  20171002    delivered      2017-10-02 10:56:33  2017-10-02 11:07:15   \n",
            "1  20180724    delivered      2018-07-24 20:41:37  2018-07-26 03:24:27   \n",
            "2  20180808    delivered      2018-08-08 08:38:49  2018-08-08 08:55:23   \n",
            "3  20171118    delivered      2017-11-18 19:28:06  2017-11-18 19:45:59   \n",
            "4  20180213    delivered      2018-02-13 21:18:39  2018-02-13 22:20:29   \n",
            "\n",
            "  order_delivered_customer_date order_estimated_delivery_date  sales_amount  \n",
            "0           2017-10-10 21:25:13           2017-10-18 00:00:00         29.99  \n",
            "1           2018-08-07 15:27:45           2018-08-13 00:00:00        118.70  \n",
            "2           2018-08-17 18:06:29           2018-09-04 00:00:00        159.90  \n",
            "3           2017-12-02 00:28:42           2017-12-15 00:00:00         45.00  \n",
            "4           2018-02-16 18:17:02           2018-02-26 00:00:00         19.90  \n"
          ]
        }
      ],
      "source": [
        "\"\"\" Memastikan kolom yang akan digunakan \"\"\"\n",
        "\n",
        "fact_orders = fact_orders[['order_id', \n",
        "                           'customer_id', \n",
        "                           'date_id', \n",
        "                           'order_status', \n",
        "                           'order_purchase_timestamp', \n",
        "                           'order_approved_at', \n",
        "                           'order_delivered_customer_date', \n",
        "                           'order_estimated_delivery_date', \n",
        "                           'sales_amount']]\n",
        "\n",
        "print(fact_orders.shape)\n",
        "print(fact_orders.head())"
      ]
    },
    {
      "cell_type": "markdown",
      "metadata": {
        "id": "BThPpDVHgdHJ"
      },
      "source": [
        "#### Fakta Order Items"
      ]
    },
    {
      "cell_type": "code",
      "execution_count": 167,
      "metadata": {
        "colab": {
          "base_uri": "https://localhost:8080/"
        },
        "id": "U7bx7mxagiGT",
        "outputId": "9bbd066a-15ef-4589-985d-7d8e1a3cbfb2"
      },
      "outputs": [
        {
          "name": "stdout",
          "output_type": "stream",
          "text": [
            "['order_id', 'order_item_id', 'product_id', 'seller_id', 'shipping_limit_date', 'price', 'freight_value']\n"
          ]
        }
      ],
      "source": [
        "fact_order_items = items_df.copy()\n",
        "print(fact_order_items.columns.tolist())"
      ]
    },
    {
      "cell_type": "code",
      "execution_count": 168,
      "metadata": {
        "colab": {
          "base_uri": "https://localhost:8080/",
          "height": 303
        },
        "id": "l6Obrstwg8NK",
        "outputId": "e0eddab2-6692-435e-afe4-7581188d34c9"
      },
      "outputs": [
        {
          "data": {
            "text/plain": [
              "order_id               0\n",
              "order_item_id          0\n",
              "product_id             0\n",
              "seller_id              0\n",
              "shipping_limit_date    0\n",
              "price                  0\n",
              "freight_value          0\n",
              "dtype: int64"
            ]
          },
          "execution_count": 168,
          "metadata": {},
          "output_type": "execute_result"
        }
      ],
      "source": [
        "\"\"\" Cek data kosong \"\"\"\n",
        "\n",
        "fact_order_items.isnull().sum()"
      ]
    },
    {
      "cell_type": "code",
      "execution_count": 169,
      "metadata": {
        "colab": {
          "base_uri": "https://localhost:8080/"
        },
        "id": "ssrDHhvRhAXh",
        "outputId": "ae54579d-b5a8-4583-e677-5a3d8080313e"
      },
      "outputs": [
        {
          "name": "stdout",
          "output_type": "stream",
          "text": [
            "(112650, 8)\n",
            "                           order_id  order_item_id  \\\n",
            "0  00010242fe8c5a6d1ba2dd792cb16214              1   \n",
            "1  00018f77f2f0320c557190d7a144bdd3              1   \n",
            "2  000229ec398224ef6ca0657da4fc703e              1   \n",
            "3  00024acbcdf0a6daa1e931b038114c75              1   \n",
            "4  00042b26cf59d7ce69dfabb4e55b4fd9              1   \n",
            "\n",
            "                         product_id                         seller_id  \\\n",
            "0  4244733e06e7ecb4970a6e2683c13e61  48436dade18ac8b2bce089ec2a041202   \n",
            "1  e5f2d52b802189ee658865ca93d83a8f  dd7ddc04e1b6c2c614352b383efe2d36   \n",
            "2  c777355d18b72b67abbeef9df44fd0fd  5b51032eddd242adc84c38acab88f23d   \n",
            "3  7634da152a4610f1595efa32f14722fc  9d7a1d34a5052409006425275ba1c2b4   \n",
            "4  ac6c3623068f30de03045865e4e10089  df560393f3a51e74553ab94004ba5c87   \n",
            "\n",
            "    date_id  shipping_limit_date   price  freight_value  \n",
            "0  20170919  2017-09-19 09:45:35   58.90          13.29  \n",
            "1  20170503  2017-05-03 11:05:13  239.90          19.93  \n",
            "2  20180118  2018-01-18 14:48:30  199.00          17.87  \n",
            "3  20180815  2018-08-15 10:10:18   12.99          12.79  \n",
            "4  20170213  2017-02-13 13:57:51  199.90          18.14  \n"
          ]
        }
      ],
      "source": [
        "\"\"\" \n",
        "Menambahkan kolom date_id dengan format YYYYMMDD dari data shipping_limit_date\n",
        "Meletakkan date_id setelah seller_id\n",
        "\"\"\"\n",
        "\n",
        "fact_order_items['date_id'] = pd.to_datetime(fact_order_items['shipping_limit_date']).dt.strftime('%Y%m%d').astype(int)\n",
        "\n",
        "cols = list(fact_order_items.columns)\n",
        "product_id_index = cols.index('seller_id')\n",
        "cols.insert(product_id_index + 1, cols.pop(cols.index('date_id')))\n",
        "fact_order_items = fact_order_items[cols]\n",
        "\n",
        "print(fact_order_items.shape)\n",
        "print(fact_order_items.head())"
      ]
    },
    {
      "cell_type": "code",
      "execution_count": null,
      "metadata": {},
      "outputs": [],
      "source": []
    },
    {
      "cell_type": "markdown",
      "metadata": {
        "id": "lv6iCxhOTL_v"
      },
      "source": [
        "### Load"
      ]
    },
    {
      "cell_type": "code",
      "execution_count": 171,
      "metadata": {
        "colab": {
          "base_uri": "https://localhost:8080/",
          "height": 364
        },
        "id": "bRsk6TsJTMAC",
        "outputId": "98c18c3c-54cd-4107-a618-5767a793ab6a"
      },
      "outputs": [],
      "source": [
        "\"\"\" Melakukan load dengan insert into \"\"\"\n",
        "\n",
        "def load_data_to_warehouse():\n",
        "    # Memastikan data yang akan dimuat ke dalam data warehouse\n",
        "    customers_final = dim_customers.copy()\n",
        "    sellers_final = dim_sellers.copy()\n",
        "    products_final = dim_products.copy()\n",
        "    payments_final = dim_payments.copy()\n",
        "    orders_final = fact_orders.copy()\n",
        "    order_items_final = fact_order_items.copy()\n",
        "\n",
        "    conn.execute(\"INSERT INTO dim_customers SELECT * FROM customers_final\")\n",
        "    conn.execute(\"INSERT INTO dim_sellers SELECT * FROM sellers_final\")\n",
        "    conn.execute(\"INSERT INTO dim_products SELECT * FROM products_final\")\n",
        "    conn.execute(\"INSERT INTO fact_orders SELECT * FROM orders_final\")\n",
        "    conn.execute(\"INSERT INTO fact_order_items SELECT * FROM order_items_final\")\n",
        "    conn.execute(\"INSERT INTO dim_payments SELECT * FROM payments_final\")\n",
        "\n",
        "    print(\"Data berhasil dimuat ke dalam data warehouse\")\n"
      ]
    },
    {
      "cell_type": "code",
      "execution_count": 172,
      "metadata": {},
      "outputs": [
        {
          "name": "stdout",
          "output_type": "stream",
          "text": [
            "Data berhasil dimuat ke dalam data warehouse\n"
          ]
        }
      ],
      "source": [
        "load_data_to_warehouse()"
      ]
    },
    {
      "cell_type": "code",
      "execution_count": 173,
      "metadata": {},
      "outputs": [
        {
          "data": {
            "text/html": [
              "<div>\n",
              "<style scoped>\n",
              "    .dataframe tbody tr th:only-of-type {\n",
              "        vertical-align: middle;\n",
              "    }\n",
              "\n",
              "    .dataframe tbody tr th {\n",
              "        vertical-align: top;\n",
              "    }\n",
              "\n",
              "    .dataframe thead th {\n",
              "        text-align: right;\n",
              "    }\n",
              "</style>\n",
              "<table border=\"1\" class=\"dataframe\">\n",
              "  <thead>\n",
              "    <tr style=\"text-align: right;\">\n",
              "      <th></th>\n",
              "      <th>order_id</th>\n",
              "      <th>customer_id</th>\n",
              "      <th>date_id</th>\n",
              "      <th>order_status</th>\n",
              "      <th>order_purchase_timestamp</th>\n",
              "      <th>order_approved_at</th>\n",
              "      <th>order_delivered_customer_date</th>\n",
              "      <th>order_estimated_delivery_date</th>\n",
              "      <th>sales_amount</th>\n",
              "    </tr>\n",
              "  </thead>\n",
              "  <tbody>\n",
              "    <tr>\n",
              "      <th>0</th>\n",
              "      <td>e481f51cbdc54678b7cc49136f2d6af7</td>\n",
              "      <td>9ef432eb6251297304e76186b10a928d</td>\n",
              "      <td>20171002</td>\n",
              "      <td>delivered</td>\n",
              "      <td>2017-10-02 10:56:33</td>\n",
              "      <td>2017-10-02 11:07:15</td>\n",
              "      <td>2017-10-10 21:25:13</td>\n",
              "      <td>2017-10-18</td>\n",
              "      <td>29.99</td>\n",
              "    </tr>\n",
              "    <tr>\n",
              "      <th>1</th>\n",
              "      <td>53cdb2fc8bc7dce0b6741e2150273451</td>\n",
              "      <td>b0830fb4747a6c6d20dea0b8c802d7ef</td>\n",
              "      <td>20180724</td>\n",
              "      <td>delivered</td>\n",
              "      <td>2018-07-24 20:41:37</td>\n",
              "      <td>2018-07-26 03:24:27</td>\n",
              "      <td>2018-08-07 15:27:45</td>\n",
              "      <td>2018-08-13</td>\n",
              "      <td>118.70</td>\n",
              "    </tr>\n",
              "    <tr>\n",
              "      <th>2</th>\n",
              "      <td>47770eb9100c2d0c44946d9cf07ec65d</td>\n",
              "      <td>41ce2a54c0b03bf3443c3d931a367089</td>\n",
              "      <td>20180808</td>\n",
              "      <td>delivered</td>\n",
              "      <td>2018-08-08 08:38:49</td>\n",
              "      <td>2018-08-08 08:55:23</td>\n",
              "      <td>2018-08-17 18:06:29</td>\n",
              "      <td>2018-09-04</td>\n",
              "      <td>159.90</td>\n",
              "    </tr>\n",
              "    <tr>\n",
              "      <th>3</th>\n",
              "      <td>949d5b44dbf5de918fe9c16f97b45f8a</td>\n",
              "      <td>f88197465ea7920adcdbec7375364d82</td>\n",
              "      <td>20171118</td>\n",
              "      <td>delivered</td>\n",
              "      <td>2017-11-18 19:28:06</td>\n",
              "      <td>2017-11-18 19:45:59</td>\n",
              "      <td>2017-12-02 00:28:42</td>\n",
              "      <td>2017-12-15</td>\n",
              "      <td>45.00</td>\n",
              "    </tr>\n",
              "    <tr>\n",
              "      <th>4</th>\n",
              "      <td>ad21c59c0840e6cb83a9ceb5573f8159</td>\n",
              "      <td>8ab97904e6daea8866dbdbc4fb7aad2c</td>\n",
              "      <td>20180213</td>\n",
              "      <td>delivered</td>\n",
              "      <td>2018-02-13 21:18:39</td>\n",
              "      <td>2018-02-13 22:20:29</td>\n",
              "      <td>2018-02-16 18:17:02</td>\n",
              "      <td>2018-02-26</td>\n",
              "      <td>19.90</td>\n",
              "    </tr>\n",
              "  </tbody>\n",
              "</table>\n",
              "</div>"
            ],
            "text/plain": [
              "                           order_id                       customer_id  \\\n",
              "0  e481f51cbdc54678b7cc49136f2d6af7  9ef432eb6251297304e76186b10a928d   \n",
              "1  53cdb2fc8bc7dce0b6741e2150273451  b0830fb4747a6c6d20dea0b8c802d7ef   \n",
              "2  47770eb9100c2d0c44946d9cf07ec65d  41ce2a54c0b03bf3443c3d931a367089   \n",
              "3  949d5b44dbf5de918fe9c16f97b45f8a  f88197465ea7920adcdbec7375364d82   \n",
              "4  ad21c59c0840e6cb83a9ceb5573f8159  8ab97904e6daea8866dbdbc4fb7aad2c   \n",
              "\n",
              "    date_id order_status order_purchase_timestamp   order_approved_at  \\\n",
              "0  20171002    delivered      2017-10-02 10:56:33 2017-10-02 11:07:15   \n",
              "1  20180724    delivered      2018-07-24 20:41:37 2018-07-26 03:24:27   \n",
              "2  20180808    delivered      2018-08-08 08:38:49 2018-08-08 08:55:23   \n",
              "3  20171118    delivered      2017-11-18 19:28:06 2017-11-18 19:45:59   \n",
              "4  20180213    delivered      2018-02-13 21:18:39 2018-02-13 22:20:29   \n",
              "\n",
              "  order_delivered_customer_date order_estimated_delivery_date  sales_amount  \n",
              "0           2017-10-10 21:25:13                    2017-10-18         29.99  \n",
              "1           2018-08-07 15:27:45                    2018-08-13        118.70  \n",
              "2           2018-08-17 18:06:29                    2018-09-04        159.90  \n",
              "3           2017-12-02 00:28:42                    2017-12-15         45.00  \n",
              "4           2018-02-16 18:17:02                    2018-02-26         19.90  "
            ]
          },
          "execution_count": 173,
          "metadata": {},
          "output_type": "execute_result"
        }
      ],
      "source": [
        "conn.execute(\"SELECT * FROM fact_orders LIMIT 5\").fetchdf()"
      ]
    },
    {
      "cell_type": "code",
      "execution_count": 174,
      "metadata": {},
      "outputs": [
        {
          "data": {
            "text/html": [
              "<div>\n",
              "<style scoped>\n",
              "    .dataframe tbody tr th:only-of-type {\n",
              "        vertical-align: middle;\n",
              "    }\n",
              "\n",
              "    .dataframe tbody tr th {\n",
              "        vertical-align: top;\n",
              "    }\n",
              "\n",
              "    .dataframe thead th {\n",
              "        text-align: right;\n",
              "    }\n",
              "</style>\n",
              "<table border=\"1\" class=\"dataframe\">\n",
              "  <thead>\n",
              "    <tr style=\"text-align: right;\">\n",
              "      <th></th>\n",
              "      <th>order_id</th>\n",
              "      <th>order_item_id</th>\n",
              "      <th>product_id</th>\n",
              "      <th>seller_id</th>\n",
              "      <th>date_id</th>\n",
              "      <th>shipping_limit_date</th>\n",
              "      <th>price</th>\n",
              "      <th>freight_value</th>\n",
              "    </tr>\n",
              "  </thead>\n",
              "  <tbody>\n",
              "    <tr>\n",
              "      <th>0</th>\n",
              "      <td>00010242fe8c5a6d1ba2dd792cb16214</td>\n",
              "      <td>1</td>\n",
              "      <td>4244733e06e7ecb4970a6e2683c13e61</td>\n",
              "      <td>48436dade18ac8b2bce089ec2a041202</td>\n",
              "      <td>20170919</td>\n",
              "      <td>2017-09-19 09:45:35</td>\n",
              "      <td>58.90</td>\n",
              "      <td>13.29</td>\n",
              "    </tr>\n",
              "    <tr>\n",
              "      <th>1</th>\n",
              "      <td>00018f77f2f0320c557190d7a144bdd3</td>\n",
              "      <td>1</td>\n",
              "      <td>e5f2d52b802189ee658865ca93d83a8f</td>\n",
              "      <td>dd7ddc04e1b6c2c614352b383efe2d36</td>\n",
              "      <td>20170503</td>\n",
              "      <td>2017-05-03 11:05:13</td>\n",
              "      <td>239.90</td>\n",
              "      <td>19.93</td>\n",
              "    </tr>\n",
              "    <tr>\n",
              "      <th>2</th>\n",
              "      <td>000229ec398224ef6ca0657da4fc703e</td>\n",
              "      <td>1</td>\n",
              "      <td>c777355d18b72b67abbeef9df44fd0fd</td>\n",
              "      <td>5b51032eddd242adc84c38acab88f23d</td>\n",
              "      <td>20180118</td>\n",
              "      <td>2018-01-18 14:48:30</td>\n",
              "      <td>199.00</td>\n",
              "      <td>17.87</td>\n",
              "    </tr>\n",
              "    <tr>\n",
              "      <th>3</th>\n",
              "      <td>00024acbcdf0a6daa1e931b038114c75</td>\n",
              "      <td>1</td>\n",
              "      <td>7634da152a4610f1595efa32f14722fc</td>\n",
              "      <td>9d7a1d34a5052409006425275ba1c2b4</td>\n",
              "      <td>20180815</td>\n",
              "      <td>2018-08-15 10:10:18</td>\n",
              "      <td>12.99</td>\n",
              "      <td>12.79</td>\n",
              "    </tr>\n",
              "    <tr>\n",
              "      <th>4</th>\n",
              "      <td>00042b26cf59d7ce69dfabb4e55b4fd9</td>\n",
              "      <td>1</td>\n",
              "      <td>ac6c3623068f30de03045865e4e10089</td>\n",
              "      <td>df560393f3a51e74553ab94004ba5c87</td>\n",
              "      <td>20170213</td>\n",
              "      <td>2017-02-13 13:57:51</td>\n",
              "      <td>199.90</td>\n",
              "      <td>18.14</td>\n",
              "    </tr>\n",
              "  </tbody>\n",
              "</table>\n",
              "</div>"
            ],
            "text/plain": [
              "                           order_id order_item_id  \\\n",
              "0  00010242fe8c5a6d1ba2dd792cb16214             1   \n",
              "1  00018f77f2f0320c557190d7a144bdd3             1   \n",
              "2  000229ec398224ef6ca0657da4fc703e             1   \n",
              "3  00024acbcdf0a6daa1e931b038114c75             1   \n",
              "4  00042b26cf59d7ce69dfabb4e55b4fd9             1   \n",
              "\n",
              "                         product_id                         seller_id  \\\n",
              "0  4244733e06e7ecb4970a6e2683c13e61  48436dade18ac8b2bce089ec2a041202   \n",
              "1  e5f2d52b802189ee658865ca93d83a8f  dd7ddc04e1b6c2c614352b383efe2d36   \n",
              "2  c777355d18b72b67abbeef9df44fd0fd  5b51032eddd242adc84c38acab88f23d   \n",
              "3  7634da152a4610f1595efa32f14722fc  9d7a1d34a5052409006425275ba1c2b4   \n",
              "4  ac6c3623068f30de03045865e4e10089  df560393f3a51e74553ab94004ba5c87   \n",
              "\n",
              "    date_id shipping_limit_date   price  freight_value  \n",
              "0  20170919 2017-09-19 09:45:35   58.90          13.29  \n",
              "1  20170503 2017-05-03 11:05:13  239.90          19.93  \n",
              "2  20180118 2018-01-18 14:48:30  199.00          17.87  \n",
              "3  20180815 2018-08-15 10:10:18   12.99          12.79  \n",
              "4  20170213 2017-02-13 13:57:51  199.90          18.14  "
            ]
          },
          "execution_count": 174,
          "metadata": {},
          "output_type": "execute_result"
        }
      ],
      "source": [
        "conn.execute(\"SELECT * FROM fact_order_items LIMIT 5\").fetchdf()"
      ]
    }
  ],
  "metadata": {
    "colab": {
      "provenance": [],
      "toc_visible": true
    },
    "kernelspec": {
      "display_name": "Python 3",
      "language": "python",
      "name": "python3"
    },
    "language_info": {
      "codemirror_mode": {
        "name": "ipython",
        "version": 3
      },
      "file_extension": ".py",
      "mimetype": "text/x-python",
      "name": "python",
      "nbconvert_exporter": "python",
      "pygments_lexer": "ipython3",
      "version": "3.10.6"
    }
  },
  "nbformat": 4,
  "nbformat_minor": 0
}
