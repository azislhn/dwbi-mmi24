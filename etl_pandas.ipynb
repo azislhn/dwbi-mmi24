{
 "cells": [
  {
   "cell_type": "markdown",
   "metadata": {},
   "source": [
    "## Persiapan"
   ]
  },
  {
   "cell_type": "code",
   "execution_count": null,
   "metadata": {},
   "outputs": [
    {
     "name": "stdout",
     "output_type": "stream",
     "text": [
      "Requirement already satisfied: duckdb in c:\\users\\lenovo\\appdata\\local\\programs\\python\\python312\\lib\\site-packages (1.2.1)\n",
      "Requirement already satisfied: pandas in c:\\users\\lenovo\\appdata\\local\\programs\\python\\python312\\lib\\site-packages (2.2.3)\n",
      "Requirement already satisfied: numpy in c:\\users\\lenovo\\appdata\\local\\programs\\python\\python312\\lib\\site-packages (2.2.2)\n",
      "Collecting kagglehub\n",
      "  Downloading kagglehub-0.3.10-py3-none-any.whl.metadata (31 kB)\n",
      "Requirement already satisfied: python-dateutil>=2.8.2 in c:\\users\\lenovo\\appdata\\roaming\\python\\python312\\site-packages (from pandas) (2.9.0.post0)\n",
      "Requirement already satisfied: pytz>=2020.1 in c:\\users\\lenovo\\appdata\\local\\programs\\python\\python312\\lib\\site-packages (from pandas) (2024.2)\n",
      "Requirement already satisfied: tzdata>=2022.7 in c:\\users\\lenovo\\appdata\\local\\programs\\python\\python312\\lib\\site-packages (from pandas) (2024.2)\n",
      "Requirement already satisfied: packaging in c:\\users\\lenovo\\appdata\\roaming\\python\\python312\\site-packages (from kagglehub) (24.1)\n",
      "Requirement already satisfied: pyyaml in c:\\users\\lenovo\\appdata\\local\\programs\\python\\python312\\lib\\site-packages (from kagglehub) (6.0.2)\n",
      "Requirement already satisfied: requests in c:\\users\\lenovo\\appdata\\local\\programs\\python\\python312\\lib\\site-packages (from kagglehub) (2.32.3)\n",
      "Requirement already satisfied: tqdm in c:\\users\\lenovo\\appdata\\local\\programs\\python\\python312\\lib\\site-packages (from kagglehub) (4.66.6)\n",
      "Requirement already satisfied: six>=1.5 in c:\\users\\lenovo\\appdata\\roaming\\python\\python312\\site-packages (from python-dateutil>=2.8.2->pandas) (1.16.0)\n",
      "Requirement already satisfied: charset-normalizer<4,>=2 in c:\\users\\lenovo\\appdata\\local\\programs\\python\\python312\\lib\\site-packages (from requests->kagglehub) (3.4.0)\n",
      "Requirement already satisfied: idna<4,>=2.5 in c:\\users\\lenovo\\appdata\\local\\programs\\python\\python312\\lib\\site-packages (from requests->kagglehub) (3.10)\n",
      "Requirement already satisfied: urllib3<3,>=1.21.1 in c:\\users\\lenovo\\appdata\\local\\programs\\python\\python312\\lib\\site-packages (from requests->kagglehub) (1.26.20)\n",
      "Requirement already satisfied: certifi>=2017.4.17 in c:\\users\\lenovo\\appdata\\local\\programs\\python\\python312\\lib\\site-packages (from requests->kagglehub) (2024.8.30)\n",
      "Requirement already satisfied: colorama in c:\\users\\lenovo\\appdata\\roaming\\python\\python312\\site-packages (from tqdm->kagglehub) (0.4.6)\n",
      "Downloading kagglehub-0.3.10-py3-none-any.whl (63 kB)\n",
      "Installing collected packages: kagglehub\n",
      "Successfully installed kagglehub-0.3.10\n"
     ]
    }
   ],
   "source": [
    "%pip install duckdb pandas numpy  kagglehub"
   ]
  },
  {
   "cell_type": "code",
   "execution_count": 1,
   "metadata": {},
   "outputs": [],
   "source": [
    "import duckdb\n",
    "import pandas as pd\n",
    "import numpy as np\n",
    "from datetime import datetime, timedelta\n",
    "import os"
   ]
  },
  {
   "cell_type": "code",
   "execution_count": 2,
   "metadata": {},
   "outputs": [
    {
     "name": "stdout",
     "output_type": "stream",
     "text": [
      "Path to dataset files: C:\\Users\\lenovo\\.cache\\kagglehub\\datasets\\olistbr\\brazilian-ecommerce\\versions\\2\n"
     ]
    }
   ],
   "source": [
    "import kagglehub\n",
    "\n",
    "path = kagglehub.dataset_download(\"olistbr/brazilian-ecommerce\")\n",
    "\n",
    "print(\"Path to dataset files:\", path)"
   ]
  },
  {
   "cell_type": "code",
   "execution_count": 3,
   "metadata": {},
   "outputs": [],
   "source": [
    "customers = pd.read_csv(os.path.join(path,'olist_customers_dataset.csv'))\n",
    "geo = pd.read_csv(os.path.join(path,'olist_geolocation_dataset.csv'))\n",
    "items = pd.read_csv(os.path.join(path,'olist_order_items_dataset.csv'))\n",
    "payments = pd.read_csv(os.path.join(path,'olist_order_payments_dataset.csv'))\n",
    "reviews = pd.read_csv(os.path.join(path,'olist_order_reviews_dataset.csv'))\n",
    "orders = pd.read_csv(os.path.join(path,'olist_orders_dataset.csv'))\n",
    "products = pd.read_csv(os.path.join(path,'olist_products_dataset.csv'))\n",
    "sellers = pd.read_csv(os.path.join(path,'olist_sellers_dataset.csv'))\n",
    "category = pd.read_csv(os.path.join(path,'product_category_name_translation.csv'))"
   ]
  },
  {
   "cell_type": "code",
   "execution_count": 22,
   "metadata": {},
   "outputs": [
    {
     "name": "stdout",
     "output_type": "stream",
     "text": [
      "Customers: \n",
      "                        customer_id                customer_unique_id  \\\n",
      "0  06b8999e2fba1a1fbc88172c00ba8bc7  861eff4711a542e4b93843c6dd7febb0   \n",
      "1  18955e83d337fd6b2def6b18a428ac77  290c77bc529b7ac935b93aa66c333dc3   \n",
      "2  4e7b3e00288586ebd08712fdd0374a03  060e732b5b29e8181a18229c7b0b2b5e   \n",
      "3  b2b6027bc5c5109e529d4dc6358b12c3  259dac757896d24d7702b9acbbff3f3c   \n",
      "4  4f2d8ab171c80ec8364f7c12e35b23ad  345ecd01c38d18a9036ed96c73b8d066   \n",
      "\n",
      "   customer_zip_code_prefix          customer_city customer_state  \n",
      "0                     14409                 franca             SP  \n",
      "1                      9790  sao bernardo do campo             SP  \n",
      "2                      1151              sao paulo             SP  \n",
      "3                      8775        mogi das cruzes             SP  \n",
      "4                     13056               campinas             SP  \n",
      "\n",
      "Geo Location: \n",
      "   geolocation_zip_code_prefix  geolocation_lat  geolocation_lng  \\\n",
      "0                         1037       -23.545621       -46.639292   \n",
      "1                         1046       -23.546081       -46.644820   \n",
      "2                         1046       -23.546129       -46.642951   \n",
      "3                         1041       -23.544392       -46.639499   \n",
      "4                         1035       -23.541578       -46.641607   \n",
      "\n",
      "  geolocation_city geolocation_state  \n",
      "0        sao paulo                SP  \n",
      "1        sao paulo                SP  \n",
      "2        sao paulo                SP  \n",
      "3        sao paulo                SP  \n",
      "4        sao paulo                SP  \n",
      "\n",
      "Items: \n",
      "                           order_id  order_item_id  \\\n",
      "0  00010242fe8c5a6d1ba2dd792cb16214              1   \n",
      "1  00018f77f2f0320c557190d7a144bdd3              1   \n",
      "2  000229ec398224ef6ca0657da4fc703e              1   \n",
      "3  00024acbcdf0a6daa1e931b038114c75              1   \n",
      "4  00042b26cf59d7ce69dfabb4e55b4fd9              1   \n",
      "\n",
      "                         product_id                         seller_id  \\\n",
      "0  4244733e06e7ecb4970a6e2683c13e61  48436dade18ac8b2bce089ec2a041202   \n",
      "1  e5f2d52b802189ee658865ca93d83a8f  dd7ddc04e1b6c2c614352b383efe2d36   \n",
      "2  c777355d18b72b67abbeef9df44fd0fd  5b51032eddd242adc84c38acab88f23d   \n",
      "3  7634da152a4610f1595efa32f14722fc  9d7a1d34a5052409006425275ba1c2b4   \n",
      "4  ac6c3623068f30de03045865e4e10089  df560393f3a51e74553ab94004ba5c87   \n",
      "\n",
      "   shipping_limit_date   price  freight_value  \n",
      "0  2017-09-19 09:45:35   58.90          13.29  \n",
      "1  2017-05-03 11:05:13  239.90          19.93  \n",
      "2  2018-01-18 14:48:30  199.00          17.87  \n",
      "3  2018-08-15 10:10:18   12.99          12.79  \n",
      "4  2017-02-13 13:57:51  199.90          18.14  \n",
      "\n",
      "Payments: \n",
      "                           order_id  payment_sequential payment_type  \\\n",
      "0  b81ef226f3fe1789b1e8b2acac839d17                   1  credit_card   \n",
      "1  a9810da82917af2d9aefd1278f1dcfa0                   1  credit_card   \n",
      "2  25e8ea4e93396b6fa0d3dd708e76c1bd                   1  credit_card   \n",
      "3  ba78997921bbcdc1373bb41e913ab953                   1  credit_card   \n",
      "4  42fdf880ba16b47b59251dd489d4441a                   1  credit_card   \n",
      "\n",
      "   payment_installments  payment_value  \n",
      "0                     8          99.33  \n",
      "1                     1          24.39  \n",
      "2                     1          65.71  \n",
      "3                     8         107.78  \n",
      "4                     2         128.45  \n",
      "\n",
      "Reviews: \n",
      "                          review_id                          order_id  \\\n",
      "0  7bc2406110b926393aa56f80a40eba40  73fc7af87114b39712e6da79b0a377eb   \n",
      "1  80e641a11e56f04c1ad469d5645fdfde  a548910a1c6147796b98fdf73dbeba33   \n",
      "2  228ce5500dc1d8e020d8d1322874b6f0  f9e4b658b201a9f2ecdecbb34bed034b   \n",
      "3  e64fb393e7b32834bb789ff8bb30750e  658677c97b385a9be170737859d3511b   \n",
      "4  f7c4243c7fe1938f181bec41a392bdeb  8e6bfb81e283fa7e4f11123a3fb894f1   \n",
      "\n",
      "   review_score review_comment_title  \\\n",
      "0             4                  NaN   \n",
      "1             5                  NaN   \n",
      "2             5                  NaN   \n",
      "3             5                  NaN   \n",
      "4             5                  NaN   \n",
      "\n",
      "                              review_comment_message review_creation_date  \\\n",
      "0                                                NaN  2018-01-18 00:00:00   \n",
      "1                                                NaN  2018-03-10 00:00:00   \n",
      "2                                                NaN  2018-02-17 00:00:00   \n",
      "3              Recebi bem antes do prazo estipulado.  2017-04-21 00:00:00   \n",
      "4  Parabéns lojas lannister adorei comprar pela I...  2018-03-01 00:00:00   \n",
      "\n",
      "  review_answer_timestamp  \n",
      "0     2018-01-18 21:46:59  \n",
      "1     2018-03-11 03:05:13  \n",
      "2     2018-02-18 14:36:24  \n",
      "3     2017-04-21 22:02:06  \n",
      "4     2018-03-02 10:26:53  \n",
      "\n",
      "Orders: \n",
      "                           order_id                       customer_id  \\\n",
      "0  e481f51cbdc54678b7cc49136f2d6af7  9ef432eb6251297304e76186b10a928d   \n",
      "1  53cdb2fc8bc7dce0b6741e2150273451  b0830fb4747a6c6d20dea0b8c802d7ef   \n",
      "2  47770eb9100c2d0c44946d9cf07ec65d  41ce2a54c0b03bf3443c3d931a367089   \n",
      "3  949d5b44dbf5de918fe9c16f97b45f8a  f88197465ea7920adcdbec7375364d82   \n",
      "4  ad21c59c0840e6cb83a9ceb5573f8159  8ab97904e6daea8866dbdbc4fb7aad2c   \n",
      "\n",
      "  order_status order_purchase_timestamp    order_approved_at  \\\n",
      "0    delivered      2017-10-02 10:56:33  2017-10-02 11:07:15   \n",
      "1    delivered      2018-07-24 20:41:37  2018-07-26 03:24:27   \n",
      "2    delivered      2018-08-08 08:38:49  2018-08-08 08:55:23   \n",
      "3    delivered      2017-11-18 19:28:06  2017-11-18 19:45:59   \n",
      "4    delivered      2018-02-13 21:18:39  2018-02-13 22:20:29   \n",
      "\n",
      "  order_delivered_carrier_date order_delivered_customer_date  \\\n",
      "0          2017-10-04 19:55:00           2017-10-10 21:25:13   \n",
      "1          2018-07-26 14:31:00           2018-08-07 15:27:45   \n",
      "2          2018-08-08 13:50:00           2018-08-17 18:06:29   \n",
      "3          2017-11-22 13:39:59           2017-12-02 00:28:42   \n",
      "4          2018-02-14 19:46:34           2018-02-16 18:17:02   \n",
      "\n",
      "  order_estimated_delivery_date  \n",
      "0           2017-10-18 00:00:00  \n",
      "1           2018-08-13 00:00:00  \n",
      "2           2018-09-04 00:00:00  \n",
      "3           2017-12-15 00:00:00  \n",
      "4           2018-02-26 00:00:00  \n",
      "\n",
      "Products: \n",
      "                         product_id  product_category_name  \\\n",
      "0  1e9e8ef04dbcff4541ed26657ea517e5             perfumaria   \n",
      "1  3aa071139cb16b67ca9e5dea641aaa2f                  artes   \n",
      "2  96bd76ec8810374ed1b65e291975717f          esporte_lazer   \n",
      "3  cef67bcfe19066a932b7673e239eb23d                  bebes   \n",
      "4  9dc1a7de274444849c219cff195d0b71  utilidades_domesticas   \n",
      "\n",
      "   product_name_lenght  product_description_lenght  product_photos_qty  \\\n",
      "0                 40.0                       287.0                 1.0   \n",
      "1                 44.0                       276.0                 1.0   \n",
      "2                 46.0                       250.0                 1.0   \n",
      "3                 27.0                       261.0                 1.0   \n",
      "4                 37.0                       402.0                 4.0   \n",
      "\n",
      "   product_weight_g  product_length_cm  product_height_cm  product_width_cm  \n",
      "0             225.0               16.0               10.0              14.0  \n",
      "1            1000.0               30.0               18.0              20.0  \n",
      "2             154.0               18.0                9.0              15.0  \n",
      "3             371.0               26.0                4.0              26.0  \n",
      "4             625.0               20.0               17.0              13.0  \n",
      "\n",
      "Sellers: \n",
      "                          seller_id  seller_zip_code_prefix  \\\n",
      "0  3442f8959a84dea7ee197c632cb2df15                   13023   \n",
      "1  d1b65fc7debc3361ea86b5f14c68d2e2                   13844   \n",
      "2  ce3ad9de960102d0677a81f5d0bb7b2d                   20031   \n",
      "3  c0f3eea2e14555b6faeea3dd58c1b1c3                    4195   \n",
      "4  51a04a8a6bdcb23deccc82b0b80742cf                   12914   \n",
      "\n",
      "         seller_city seller_state  \n",
      "0           campinas           SP  \n",
      "1         mogi guacu           SP  \n",
      "2     rio de janeiro           RJ  \n",
      "3          sao paulo           SP  \n",
      "4  braganca paulista           SP  \n",
      "\n",
      "Product Category: \n",
      "    product_category_name product_category_name_english\n",
      "0            beleza_saude                 health_beauty\n",
      "1  informatica_acessorios         computers_accessories\n",
      "2              automotivo                          auto\n",
      "3         cama_mesa_banho                bed_bath_table\n",
      "4        moveis_decoracao               furniture_decor\n",
      "\n"
     ]
    }
   ],
   "source": [
    "print(f\"Customers: \\n{customers.head()}\\n\")\n",
    "print(f\"Geo Location: \\n{geo.head()}\\n\")\n",
    "print(f\"Items: \\n{items.head()}\\n\")\n",
    "print(f\"Payments: \\n{payments.head()}\\n\")\n",
    "print(f\"Reviews: \\n{reviews.head()}\\n\")\n",
    "print(f\"Orders: \\n{orders.head()}\\n\")\n",
    "print(f\"Products: \\n{products.head()}\\n\")\n",
    "print(f\"Sellers: \\n{sellers.head()}\\n\")\n",
    "print(f\"Product Category: \\n{category.head()}\\n\")"
   ]
  },
  {
   "cell_type": "markdown",
   "metadata": {},
   "source": [
    "## Koneksi DuckDB dan DDL"
   ]
  },
  {
   "cell_type": "markdown",
   "metadata": {},
   "source": [
    "Koneksi ke DuckDB"
   ]
  },
  {
   "cell_type": "code",
   "execution_count": 4,
   "metadata": {},
   "outputs": [
    {
     "name": "stdout",
     "output_type": "stream",
     "text": [
      "Terhubung ke DuckDB : brazilian_ecommerce.db\n"
     ]
    }
   ],
   "source": [
    "conn = duckdb.connect(\"brazilian_ecommerce.db\")\n",
    "print(\"Terhubung ke DuckDB : brazilian_ecommerce.db\")\n",
    "\n",
    "# conn.close()\n",
    "# print(\"Koneksi ke DuckDB tertutup\")"
   ]
  },
  {
   "cell_type": "markdown",
   "metadata": {},
   "source": [
    "Fact Constellation Schema"
   ]
  },
  {
   "cell_type": "markdown",
   "metadata": {},
   "source": [
    "**Tabel Dimensi:**\n",
    "\n",
    "dim_customers → Informasi pelanggan.\n",
    "\n",
    "dim_products → Informasi produk.\n",
    "\n",
    "dim_sellers → Informasi penjual.\n",
    "\n",
    "dim_geo → Informasi lokasi berdasarkan kode pos.\n",
    "\n",
    "dim_time → Dimensi waktu untuk analisis berbasis periode.\n",
    "\n",
    "**Tabel Fakta:**\n",
    "\n",
    "fact_orders → Menganalisis transaksi pesanan.\n",
    "\n",
    "fact_order_items → Menganalisis detail produk dalam pesanan.\n",
    "\n",
    "fact_payments → Menganalisis pembayaran pelanggan.\n",
    "\n",
    "fact_reviews → Menganalisis ulasan pelanggan terhadap produk."
   ]
  },
  {
   "cell_type": "code",
   "execution_count": null,
   "metadata": {},
   "outputs": [],
   "source": [
    "def create_datawarehouse_schema():\n",
    "\n",
    "    # Membuat tabel dimensi\n",
    "    conn.execute(\"\"\"\n",
    "                 -- Dimensi Geolocation\n",
    "                 CREATE OR REPLACE TABLE dim_geolocation (\n",
    "                    geolocation_sk INTEGER PRIMARY KEY,\n",
    "                    zip_code_prefix VARCHAR NOT NULL,\n",
    "                    latitude DECIMAL(10,6) NOT NULL,\n",
    "                    longitude DECIMAL(10,6) NOT NULL,\n",
    "                    geolocation_city VARCHAR NOT NULL,\n",
    "                    geolocation_state VARCHAR NOT NULL\n",
    "                );\n",
    "                 \"\"\")\n",
    "    \n",
    "    conn.execute(\"\"\"\n",
    "                CREATE OR REPLACE TABLE dim_customers (\n",
    "                    customer_sk INTEGER PRIMARY KEY,\n",
    "                    customer_id VARCHAR UNIQUE NOT NULL,\n",
    "                    customer_unique_id VARCHAR NOT NULL,\n",
    "                    geolocation_sk INTEGER NOT NULL,\n",
    "                    FOREIGN KEY (geolocation_sk) REFERENCES dim_geo(geolocation_sk)\n",
    "                );\n",
    "\n",
    "                CREATE OR REPLACE TABLE dim_sellers (\n",
    "                    seller_sk INTEGER PRIMARY KEY,\n",
    "                    seller_id VARCHAR UNIQUE NOT NULL,\n",
    "                    geolocation_sk INTEGER NOT NULL,\n",
    "                    FOREIGN KEY (geolocation_sk) REFERENCES dim_geo(geolocation_sk)\n",
    "                );\n",
    "\n",
    "                CREATE OR REPLACE TABLE dim_time (\n",
    "                    time_sk INTEGER PRIMARY KEY,\n",
    "                    date DATE UNIQUE NOT NULL,\n",
    "                    year INTEGER NOT NULL,\n",
    "                    month INTEGER NOT NULL,\n",
    "                    day_of_week VARCHAR NOT NULL\n",
    "                );\n",
    "                \"\"\")"
   ]
  },
  {
   "cell_type": "markdown",
   "metadata": {},
   "source": [
    "## Proses ETL "
   ]
  },
  {
   "cell_type": "markdown",
   "metadata": {},
   "source": [
    "### Extract"
   ]
  },
  {
   "cell_type": "code",
   "execution_count": 5,
   "metadata": {},
   "outputs": [],
   "source": [
    "def extract_source_data():\n",
    "    \"\"\"Ekstrak data dari sumber\"\"\"\n",
    "\n",
    "    customers_df = customers.copy()\n",
    "    geo_df = geo.copy()\n",
    "    items_df = items.copy()\n",
    "    payments_df = payments.copy()\n",
    "    reviews_df = reviews.copy()\n",
    "    orders_df = orders.copy()\n",
    "    products_df = products.copy()\n",
    "    sellers_df = sellers.copy()\n",
    "    category_df = category.copy()\n",
    "\n",
    "    print(f\"Data berhasil diekstrak:\")\n",
    "    print(f\"Jumlah data customers: {customers_df.shape[0]}\")\n",
    "    print(f\"Jumlah data geolocation: {geo_df.shape[0]}\")\n",
    "    print(f\"Jumlah data items: {items_df.shape[0]}\")\n",
    "    print(f\"Jumlah data payments: {payments_df.shape[0]}\")\n",
    "    print(f\"Jumlah data reviews: {reviews_df.shape[0]}\")\n",
    "    print(f\"Jumlah data orders: {orders_df.shape[0]}\")\n",
    "    print(f\"Jumlah data products: {products_df.shape[0]}\")\n",
    "    print(f\"Jumlah data sellers: {sellers_df.shape[0]}\")\n",
    "    print(f\"Jumlah data product category: {category_df.shape[0]}\")\n",
    "\n",
    "    return customers_df, geo_df, items_df, payments_df, reviews_df, orders_df, products_df, sellers_df, category_df"
   ]
  },
  {
   "cell_type": "code",
   "execution_count": 6,
   "metadata": {},
   "outputs": [
    {
     "name": "stdout",
     "output_type": "stream",
     "text": [
      "Data berhasil diekstrak:\n",
      "Jumlah data customers: 99441\n",
      "Jumlah data geolocation: 1000163\n",
      "Jumlah data items: 112650\n",
      "Jumlah data payments: 103886\n",
      "Jumlah data reviews: 99224\n",
      "Jumlah data orders: 99441\n",
      "Jumlah data products: 32951\n",
      "Jumlah data sellers: 3095\n",
      "Jumlah data product category: 71\n"
     ]
    }
   ],
   "source": [
    "customers_df, geo_df, items_df, payments_df, reviews_df, orders_df, products_df, sellers_df, category_df = extract_source_data()"
   ]
  },
  {
   "cell_type": "markdown",
   "metadata": {},
   "source": [
    "### Transform"
   ]
  },
  {
   "cell_type": "code",
   "execution_count": 7,
   "metadata": {},
   "outputs": [],
   "source": [
    "def check_duplicates(df, column):\n",
    "    \"\"\"Cek duplikat data\"\"\"\n",
    "    duplicate_counts = df[column].value_counts()\n",
    "    unique_counts = len(duplicate_counts)\n",
    "    print(f\"Jumlah data unik pada kolom {column}: {unique_counts}\")\n",
    "    if len(duplicate_counts[duplicate_counts > 1]) == 0:\n",
    "        print(f\"Tidak ada duplikat data pada kolom {column}\")\n",
    "    else:\n",
    "        print(f\"Ada duplikat data pada kolom {column} sebanyak {len(duplicate_counts[duplicate_counts > 1])}\")  "
   ]
  },
  {
   "cell_type": "code",
   "execution_count": 10,
   "metadata": {},
   "outputs": [
    {
     "name": "stdout",
     "output_type": "stream",
     "text": [
      "Jumlah data unik pada kolom customer_unique_id: 96096\n",
      "Ada duplikat data pada kolom customer_unique_id sebanyak 2997\n"
     ]
    }
   ],
   "source": [
    "check_duplicates(customers_df, 'customer_unique_id')"
   ]
  },
  {
   "cell_type": "markdown",
   "metadata": {},
   "source": [
    "#### Dimensi Customers"
   ]
  },
  {
   "cell_type": "code",
   "execution_count": 8,
   "metadata": {},
   "outputs": [
    {
     "name": "stdout",
     "output_type": "stream",
     "text": [
      "['customer_id', 'customer_unique_id', 'customer_zip_code_prefix', 'customer_city', 'customer_state']\n"
     ]
    }
   ],
   "source": [
    "dim_customers = customers_df.copy()\n",
    "print(dim_customers.columns.tolist())"
   ]
  },
  {
   "cell_type": "code",
   "execution_count": 9,
   "metadata": {},
   "outputs": [
    {
     "name": "stdout",
     "output_type": "stream",
     "text": [
      "Jumlah data unik pada kolom customer_id: 99441\n",
      "Tidak ada duplikat data pada kolom customer_id\n"
     ]
    }
   ],
   "source": [
    "# Satu customer_unique_id bisa punya lebih dari satu customer_id\n",
    "# Unique key: customer_id\n",
    "# Foreign key: geolocation_sk -> dim_geo\n",
    "\n",
    "check_duplicates(dim_customers, 'customer_id')\n",
    "\n",
    "dim_customers = dim_customers.drop_duplicates(subset=['customer_id'])"
   ]
  },
  {
   "cell_type": "code",
   "execution_count": 10,
   "metadata": {},
   "outputs": [
    {
     "data": {
      "text/plain": [
       "customer_id                 0\n",
       "customer_unique_id          0\n",
       "customer_zip_code_prefix    0\n",
       "customer_city               0\n",
       "customer_state              0\n",
       "dtype: int64"
      ]
     },
     "execution_count": 10,
     "metadata": {},
     "output_type": "execute_result"
    }
   ],
   "source": [
    "dim_customers.isnull().sum()"
   ]
  },
  {
   "cell_type": "code",
   "execution_count": 11,
   "metadata": {},
   "outputs": [
    {
     "name": "stdout",
     "output_type": "stream",
     "text": [
      "                        customer_id                customer_unique_id  \\\n",
      "0  06b8999e2fba1a1fbc88172c00ba8bc7  861eff4711a542e4b93843c6dd7febb0   \n",
      "1  18955e83d337fd6b2def6b18a428ac77  290c77bc529b7ac935b93aa66c333dc3   \n",
      "2  4e7b3e00288586ebd08712fdd0374a03  060e732b5b29e8181a18229c7b0b2b5e   \n",
      "3  b2b6027bc5c5109e529d4dc6358b12c3  259dac757896d24d7702b9acbbff3f3c   \n",
      "4  4f2d8ab171c80ec8364f7c12e35b23ad  345ecd01c38d18a9036ed96c73b8d066   \n",
      "\n",
      "           customer_city customer_state  customer_zip_code_prefix  \n",
      "0                 franca             SP                     14409  \n",
      "1  sao bernardo do campo             SP                      9790  \n",
      "2              sao paulo             SP                      1151  \n",
      "3        mogi das cruzes             SP                      8775  \n",
      "4               campinas             SP                     13056  \n"
     ]
    }
   ],
   "source": [
    "dim_customers = dim_customers[['customer_id', 'customer_unique_id', 'customer_city', 'customer_state', 'customer_zip_code_prefix']]\n",
    "print(dim_customers.head())"
   ]
  },
  {
   "cell_type": "markdown",
   "metadata": {},
   "source": [
    "#### Dimensi Seller"
   ]
  },
  {
   "cell_type": "code",
   "execution_count": 16,
   "metadata": {},
   "outputs": [
    {
     "name": "stdout",
     "output_type": "stream",
     "text": [
      "['seller_id', 'seller_zip_code_prefix', 'seller_city', 'seller_state']\n"
     ]
    }
   ],
   "source": [
    "dim_sellers = sellers_df.copy()\n",
    "print(dim_sellers.columns.tolist())\n"
   ]
  },
  {
   "cell_type": "code",
   "execution_count": 15,
   "metadata": {},
   "outputs": [
    {
     "name": "stdout",
     "output_type": "stream",
     "text": [
      "Jumlah data unik pada kolom seller_id: 3095\n",
      "Tidak ada duplikat data pada kolom seller_id\n"
     ]
    }
   ],
   "source": [
    "check_duplicates(dim_sellers, 'seller_id')\n",
    "\n",
    "dim_sellers = dim_sellers.drop_duplicates(subset=['seller_id'])"
   ]
  },
  {
   "cell_type": "code",
   "execution_count": 17,
   "metadata": {},
   "outputs": [
    {
     "data": {
      "text/plain": [
       "seller_id                 0\n",
       "seller_zip_code_prefix    0\n",
       "seller_city               0\n",
       "seller_state              0\n",
       "dtype: int64"
      ]
     },
     "execution_count": 17,
     "metadata": {},
     "output_type": "execute_result"
    }
   ],
   "source": [
    "dim_sellers.isnull().sum()"
   ]
  },
  {
   "cell_type": "code",
   "execution_count": 18,
   "metadata": {},
   "outputs": [
    {
     "name": "stdout",
     "output_type": "stream",
     "text": [
      "                          seller_id        seller_city seller_state  \\\n",
      "0  3442f8959a84dea7ee197c632cb2df15           campinas           SP   \n",
      "1  d1b65fc7debc3361ea86b5f14c68d2e2         mogi guacu           SP   \n",
      "2  ce3ad9de960102d0677a81f5d0bb7b2d     rio de janeiro           RJ   \n",
      "3  c0f3eea2e14555b6faeea3dd58c1b1c3          sao paulo           SP   \n",
      "4  51a04a8a6bdcb23deccc82b0b80742cf  braganca paulista           SP   \n",
      "\n",
      "   seller_zip_code_prefix  \n",
      "0                   13023  \n",
      "1                   13844  \n",
      "2                   20031  \n",
      "3                    4195  \n",
      "4                   12914  \n"
     ]
    }
   ],
   "source": [
    "dim_sellers = dim_sellers[['seller_id', 'seller_city', 'seller_state', 'seller_zip_code_prefix']]\n",
    "print(dim_sellers.head())"
   ]
  },
  {
   "cell_type": "markdown",
   "metadata": {},
   "source": [
    "#### Dimensi Products"
   ]
  },
  {
   "cell_type": "code",
   "execution_count": 36,
   "metadata": {},
   "outputs": [
    {
     "name": "stdout",
     "output_type": "stream",
     "text": [
      "['product_id', 'product_category_name', 'product_name_lenght', 'product_description_lenght', 'product_photos_qty', 'product_weight_g', 'product_length_cm', 'product_height_cm', 'product_width_cm']\n"
     ]
    },
    {
     "data": {
      "text/plain": [
       "product_id                      0\n",
       "product_category_name         610\n",
       "product_name_lenght           610\n",
       "product_description_lenght    610\n",
       "product_photos_qty            610\n",
       "product_weight_g                2\n",
       "product_length_cm               2\n",
       "product_height_cm               2\n",
       "product_width_cm                2\n",
       "dtype: int64"
      ]
     },
     "execution_count": 36,
     "metadata": {},
     "output_type": "execute_result"
    }
   ],
   "source": [
    "dim_products = products_df.copy()\n",
    "print(dim_products.columns.tolist())\n",
    "dim_products.isnull().sum()"
   ]
  },
  {
   "cell_type": "code",
   "execution_count": 37,
   "metadata": {},
   "outputs": [
    {
     "name": "stdout",
     "output_type": "stream",
     "text": [
      "74\n"
     ]
    }
   ],
   "source": [
    "print(len(dim_products['product_category_name'].unique()))"
   ]
  },
  {
   "cell_type": "code",
   "execution_count": 38,
   "metadata": {},
   "outputs": [],
   "source": [
    "for i in range(len(category_df)):\n",
    "    ctg = category_df['product_category_name'][i]\n",
    "    eng_ctg = category_df['product_category_name_english'][i]\n",
    "    if (ctg in dim_products['product_category_name'].unique()):\n",
    "        dim_products.loc[dim_products['product_category_name'] == ctg, 'product_category_name_english'] = eng_ctg\n"
   ]
  },
  {
   "cell_type": "code",
   "execution_count": 49,
   "metadata": {},
   "outputs": [
    {
     "data": {
      "text/plain": [
       "np.int64(623)"
      ]
     },
     "execution_count": 49,
     "metadata": {},
     "output_type": "execute_result"
    }
   ],
   "source": [
    "dim_products['product_category_name_english'].isnull().sum()"
   ]
  },
  {
   "cell_type": "markdown",
   "metadata": {},
   "source": [
    "#### Dimensi Payments"
   ]
  },
  {
   "cell_type": "code",
   "execution_count": 50,
   "metadata": {},
   "outputs": [
    {
     "name": "stdout",
     "output_type": "stream",
     "text": [
      "['order_id', 'payment_sequential', 'payment_type', 'payment_installments', 'payment_value']\n"
     ]
    },
    {
     "data": {
      "text/plain": [
       "order_id                0\n",
       "payment_sequential      0\n",
       "payment_type            0\n",
       "payment_installments    0\n",
       "payment_value           0\n",
       "dtype: int64"
      ]
     },
     "execution_count": 50,
     "metadata": {},
     "output_type": "execute_result"
    }
   ],
   "source": [
    "dim_payments = payments_df.copy()\n",
    "print(dim_payments.columns.tolist())\n",
    "dim_payments.isnull().sum()"
   ]
  },
  {
   "cell_type": "code",
   "execution_count": 56,
   "metadata": {},
   "outputs": [
    {
     "name": "stdout",
     "output_type": "stream",
     "text": [
      "Jumlah data unik pada kolom order_id: 99440\n",
      "Ada duplikat data pada kolom order_id sebanyak 2961\n"
     ]
    },
    {
     "data": {
      "text/plain": [
       "payment_type\n",
       "credit_card    76795\n",
       "boleto         19784\n",
       "voucher         5775\n",
       "debit_card      1529\n",
       "not_defined        3\n",
       "Name: count, dtype: int64"
      ]
     },
     "execution_count": 56,
     "metadata": {},
     "output_type": "execute_result"
    }
   ],
   "source": [
    "check_duplicates(dim_payments, 'order_id')\n",
    "dim_payments['payment_type'].value_counts()"
   ]
  },
  {
   "cell_type": "code",
   "execution_count": null,
   "metadata": {},
   "outputs": [],
   "source": []
  },
  {
   "cell_type": "markdown",
   "metadata": {},
   "source": [
    "### Load"
   ]
  },
  {
   "cell_type": "code",
   "execution_count": null,
   "metadata": {},
   "outputs": [],
   "source": []
  }
 ],
 "metadata": {
  "kernelspec": {
   "display_name": "Python 3",
   "language": "python",
   "name": "python3"
  },
  "language_info": {
   "codemirror_mode": {
    "name": "ipython",
    "version": 3
   },
   "file_extension": ".py",
   "mimetype": "text/x-python",
   "name": "python",
   "nbconvert_exporter": "python",
   "pygments_lexer": "ipython3",
   "version": "3.12.5"
  }
 },
 "nbformat": 4,
 "nbformat_minor": 2
}
